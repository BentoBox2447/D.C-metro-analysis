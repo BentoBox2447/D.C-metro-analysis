{
 "cells": [
  {
   "cell_type": "markdown",
   "metadata": {},
   "source": [
    "# D.C Metro Analysis Project"
   ]
  },
  {
   "cell_type": "markdown",
   "metadata": {},
   "source": [
    "## Overview:"
   ]
  },
  {
   "cell_type": "markdown",
   "metadata": {},
   "source": [
    "In this project I will look at D.C Metro metrics.  I will import, clean, analyze, and do EDA on the data.  After getting a good feeling for the data I will begin modeling the data.  "
   ]
  },
  {
   "cell_type": "markdown",
   "metadata": {},
   "source": [
    "## First steps: "
   ]
  },
  {
   "cell_type": "markdown",
   "metadata": {},
   "source": [
    "I’ve reached out to the created of the D.C Metro Metrics website and I’ve asked him about the data and how updated it currently is.  I haven’t been able to find any modeling examples for my particular data, so this is what I will probably have the most trouble with.  I’ll have to meet with Julian and Brian a lot to get this done well.  \n",
    "I need to clean all the data thoroughly to make sure it is easy to use for EDA and ML.  After I’m done cleaning the data I can begin EDA to get a better sense of the data, and I can then begin modeling.  \n"
   ]
  },
  {
   "cell_type": "markdown",
   "metadata": {},
   "source": [
    "## To Do:"
   ]
  },
  {
   "cell_type": "markdown",
   "metadata": {},
   "source": [
    "### 1. Collect and Read in Data\n",
    "- a. daily_unit_reports.csv\n",
    "- b. daily_system_reports.csv \n",
    "- c. hotcars.csv\n",
    "- d. stations.csv\n",
    "- e. unit_statuses.csv\n",
    "- f. units.csv\n",
    "\n",
    "Done on 8/30/2019"
   ]
  },
  {
   "cell_type": "markdown",
   "metadata": {},
   "source": [
    "### 2. Data Cleaning\n",
    "- a. daily_unit_reports.csv\n",
    "- b. daily_system_reports.csv\n",
    "- c. hotcars.csv \n",
    "- d. stations.csv\n",
    "- e. unit_statuses.csv\n",
    "- f. units.csv"
   ]
  },
  {
   "cell_type": "code",
   "execution_count": 1,
   "metadata": {},
   "outputs": [],
   "source": [
    "# hotcars.csv cleaned 09/03/2019"
   ]
  },
  {
   "cell_type": "markdown",
   "metadata": {},
   "source": [
    "### 3. EDA:\n",
    "- a. daily_unit_reports.csv\n",
    "- b. daily_system_reports.csv\n",
    "- c. hotcars.csv\n",
    "- d. stations.csv\n",
    "- e. unit_statuses.csv\n",
    "- f. units.csv\n"
   ]
  },
  {
   "cell_type": "code",
   "execution_count": null,
   "metadata": {},
   "outputs": [],
   "source": []
  }
 ],
 "metadata": {
  "kernelspec": {
   "display_name": "Python 3",
   "language": "python",
   "name": "python3"
  },
  "language_info": {
   "codemirror_mode": {
    "name": "ipython",
    "version": 3
   },
   "file_extension": ".py",
   "mimetype": "text/x-python",
   "name": "python",
   "nbconvert_exporter": "python",
   "pygments_lexer": "ipython3",
   "version": "3.7.3"
  }
 },
 "nbformat": 4,
 "nbformat_minor": 4
}
