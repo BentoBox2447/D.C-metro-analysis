{
 "cells": [
  {
   "cell_type": "markdown",
   "metadata": {},
   "source": [
    "# Exploring the Data\n",
    "- I want to see which lines and cars received the most complaints\n",
    "- I also want to look at dates, and see which months and days received the most complaints\n",
    "    - I'm assuming there will be an increase during the summer months when it is generally hotter and also during weekdays, when many people are commuting to work"
   ]
  },
  {
   "cell_type": "code",
   "execution_count": 20,
   "metadata": {},
   "outputs": [],
   "source": [
    "import pandas as pd"
   ]
  },
  {
   "cell_type": "code",
   "execution_count": 21,
   "metadata": {},
   "outputs": [],
   "source": [
    "data = pd.read_csv('C:\\\\Users\\\\606569\\\\Documents\\\\my_GitHub\\\\D.C-metro-analysis\\\\data\\\\cleaned\\\\hotcars_clean.csv')"
   ]
  },
  {
   "cell_type": "code",
   "execution_count": 22,
   "metadata": {},
   "outputs": [
    {
     "data": {
      "text/html": [
       "<div>\n",
       "<style scoped>\n",
       "    .dataframe tbody tr th:only-of-type {\n",
       "        vertical-align: middle;\n",
       "    }\n",
       "\n",
       "    .dataframe tbody tr th {\n",
       "        vertical-align: top;\n",
       "    }\n",
       "\n",
       "    .dataframe thead th {\n",
       "        text-align: right;\n",
       "    }\n",
       "</style>\n",
       "<table border=\"1\" class=\"dataframe\">\n",
       "  <thead>\n",
       "    <tr style=\"text-align: right;\">\n",
       "      <th></th>\n",
       "      <th>Unnamed: 0</th>\n",
       "      <th>car_number</th>\n",
       "      <th>color</th>\n",
       "      <th>time_stamp</th>\n",
       "      <th>text</th>\n",
       "      <th>handle</th>\n",
       "      <th>user_id</th>\n",
       "      <th>full_date</th>\n",
       "      <th>year</th>\n",
       "      <th>month</th>\n",
       "      <th>day</th>\n",
       "      <th>season</th>\n",
       "      <th>weekday</th>\n",
       "      <th>workday</th>\n",
       "    </tr>\n",
       "  </thead>\n",
       "  <tbody>\n",
       "    <tr>\n",
       "      <th>0</th>\n",
       "      <td>0</td>\n",
       "      <td>1001</td>\n",
       "      <td>RED</td>\n",
       "      <td>2013-05-28 12:39:54+00:00</td>\n",
       "      <td>Was just on metro hot car #1001 (red line), an...</td>\n",
       "      <td>CarChickMWB</td>\n",
       "      <td>18249348</td>\n",
       "      <td>2013-05-28</td>\n",
       "      <td>2013</td>\n",
       "      <td>5</td>\n",
       "      <td>28</td>\n",
       "      <td>2</td>\n",
       "      <td>1</td>\n",
       "      <td>0</td>\n",
       "    </tr>\n",
       "    <tr>\n",
       "      <th>1</th>\n",
       "      <td>1</td>\n",
       "      <td>1188</td>\n",
       "      <td>RED</td>\n",
       "      <td>2013-05-28 12:50:53+00:00</td>\n",
       "      <td>@FixWMATA @unsuckdcmetro @wmata RL #HotCar 118...</td>\n",
       "      <td>DiavoJinx</td>\n",
       "      <td>403520304</td>\n",
       "      <td>2013-05-28</td>\n",
       "      <td>2013</td>\n",
       "      <td>5</td>\n",
       "      <td>28</td>\n",
       "      <td>2</td>\n",
       "      <td>1</td>\n",
       "      <td>0</td>\n",
       "    </tr>\n",
       "    <tr>\n",
       "      <th>2</th>\n",
       "      <td>2</td>\n",
       "      <td>1068</td>\n",
       "      <td>GREEN</td>\n",
       "      <td>2013-05-28 21:06:20+00:00</td>\n",
       "      <td>oh good, another hot car on the metro. green l...</td>\n",
       "      <td>lexilooo</td>\n",
       "      <td>16174883</td>\n",
       "      <td>2013-05-28</td>\n",
       "      <td>2013</td>\n",
       "      <td>5</td>\n",
       "      <td>28</td>\n",
       "      <td>2</td>\n",
       "      <td>1</td>\n",
       "      <td>0</td>\n",
       "    </tr>\n",
       "    <tr>\n",
       "      <th>3</th>\n",
       "      <td>3</td>\n",
       "      <td>2066</td>\n",
       "      <td>ORANGE</td>\n",
       "      <td>2013-05-28 21:15:23+00:00</td>\n",
       "      <td>#HotCar 2066 on OL to New Carrollton.  Air is ...</td>\n",
       "      <td>TheHornGuy</td>\n",
       "      <td>40506740</td>\n",
       "      <td>2013-05-28</td>\n",
       "      <td>2013</td>\n",
       "      <td>5</td>\n",
       "      <td>28</td>\n",
       "      <td>2</td>\n",
       "      <td>1</td>\n",
       "      <td>0</td>\n",
       "    </tr>\n",
       "    <tr>\n",
       "      <th>4</th>\n",
       "      <td>4</td>\n",
       "      <td>1043</td>\n",
       "      <td>BLUE</td>\n",
       "      <td>2013-05-28 22:08:07+00:00</td>\n",
       "      <td>Car 1043 on the blue line heading to Largo is ...</td>\n",
       "      <td>jessydumpling</td>\n",
       "      <td>263763147</td>\n",
       "      <td>2013-05-28</td>\n",
       "      <td>2013</td>\n",
       "      <td>5</td>\n",
       "      <td>28</td>\n",
       "      <td>2</td>\n",
       "      <td>1</td>\n",
       "      <td>0</td>\n",
       "    </tr>\n",
       "  </tbody>\n",
       "</table>\n",
       "</div>"
      ],
      "text/plain": [
       "   Unnamed: 0  car_number   color                 time_stamp  \\\n",
       "0           0        1001     RED  2013-05-28 12:39:54+00:00   \n",
       "1           1        1188     RED  2013-05-28 12:50:53+00:00   \n",
       "2           2        1068   GREEN  2013-05-28 21:06:20+00:00   \n",
       "3           3        2066  ORANGE  2013-05-28 21:15:23+00:00   \n",
       "4           4        1043    BLUE  2013-05-28 22:08:07+00:00   \n",
       "\n",
       "                                                text         handle  \\\n",
       "0  Was just on metro hot car #1001 (red line), an...    CarChickMWB   \n",
       "1  @FixWMATA @unsuckdcmetro @wmata RL #HotCar 118...      DiavoJinx   \n",
       "2  oh good, another hot car on the metro. green l...       lexilooo   \n",
       "3  #HotCar 2066 on OL to New Carrollton.  Air is ...     TheHornGuy   \n",
       "4  Car 1043 on the blue line heading to Largo is ...  jessydumpling   \n",
       "\n",
       "     user_id   full_date  year  month  day  season  weekday  workday  \n",
       "0   18249348  2013-05-28  2013      5   28       2        1        0  \n",
       "1  403520304  2013-05-28  2013      5   28       2        1        0  \n",
       "2   16174883  2013-05-28  2013      5   28       2        1        0  \n",
       "3   40506740  2013-05-28  2013      5   28       2        1        0  \n",
       "4  263763147  2013-05-28  2013      5   28       2        1        0  "
      ]
     },
     "execution_count": 22,
     "metadata": {},
     "output_type": "execute_result"
    }
   ],
   "source": [
    "data.head()"
   ]
  },
  {
   "cell_type": "code",
   "execution_count": 23,
   "metadata": {},
   "outputs": [
    {
     "name": "stdout",
     "output_type": "stream",
     "text": [
      "Requirement already satisfied: wordcloud in c:\\users\\606569\\appdata\\local\\continuum\\anaconda3\\lib\\site-packages (1.5.0)\n",
      "Requirement already satisfied: numpy>=1.6.1 in c:\\users\\606569\\appdata\\local\\continuum\\anaconda3\\lib\\site-packages (from wordcloud) (1.16.4)\n",
      "Requirement already satisfied: pillow in c:\\users\\606569\\appdata\\local\\continuum\\anaconda3\\lib\\site-packages (from wordcloud) (6.1.0)\n",
      "Note: you may need to restart the kernel to use updated packages.\n"
     ]
    }
   ],
   "source": [
    "pip install wordcloud"
   ]
  },
  {
   "cell_type": "code",
   "execution_count": 24,
   "metadata": {},
   "outputs": [
    {
     "name": "stderr",
     "output_type": "stream",
     "text": [
      "UsageError: Line magic function `%` not found.\n"
     ]
    }
   ],
   "source": [
    "import numpy as np\n",
    "import pandas as pd\n",
    "from os import path\n",
    "from PIL import Image\n",
    "from wordcloud import WordCloud, STOPWORDS, ImageColorGenerator\n",
    "\n",
    "import matplotlib.pyplot as plt\n",
    "% matplotlib inline"
   ]
  },
  {
   "cell_type": "code",
   "execution_count": 25,
   "metadata": {},
   "outputs": [
    {
     "data": {
      "image/png": "[encoded data removed]",
      "text/plain": [
       "<Figure size 432x288 with 1 Axes>"
      ]
     },
     "metadata": {
      "needs_background": "light"
     },
     "output_type": "display_data"
    }
   ],
   "source": [
    "# Start with one tweet:\n",
    "text = data.text[0]\n",
    "\n",
    "# Create and generate a word cloud image:\n",
    "wordcloud = WordCloud().generate(text)\n",
    "\n",
    "# Display the generated image:\n",
    "plt.imshow(wordcloud, interpolation='bilinear')\n",
    "plt.axis(\"off\")\n",
    "plt.show()\n"
   ]
  },
  {
   "cell_type": "code",
   "execution_count": 26,
   "metadata": {},
   "outputs": [
    {
     "data": {
      "text/plain": [
       "(6440, 14)"
      ]
     },
     "execution_count": 26,
     "metadata": {},
     "output_type": "execute_result"
    }
   ],
   "source": [
    "data.shape"
   ]
  },
  {
   "cell_type": "code",
   "execution_count": 27,
   "metadata": {},
   "outputs": [
    {
     "data": {
      "text/plain": [
       "Unnamed: 0     int64\n",
       "car_number     int64\n",
       "color         object\n",
       "time_stamp    object\n",
       "text          object\n",
       "handle        object\n",
       "user_id        int64\n",
       "full_date     object\n",
       "year           int64\n",
       "month          int64\n",
       "day            int64\n",
       "season         int64\n",
       "weekday        int64\n",
       "workday        int64\n",
       "dtype: object"
      ]
     },
     "execution_count": 27,
     "metadata": {},
     "output_type": "execute_result"
    }
   ],
   "source": [
    "data.dtypes"
   ]
  },
  {
   "cell_type": "code",
   "execution_count": 28,
   "metadata": {},
   "outputs": [
    {
     "data": {
      "text/plain": [
       "18    278\n",
       "19    272\n",
       "17    267\n",
       "26    259\n",
       "11    249\n",
       "Name: day, dtype: int64"
      ]
     },
     "execution_count": 28,
     "metadata": {},
     "output_type": "execute_result"
    }
   ],
   "source": [
    "data.day.value_counts().head()"
   ]
  },
  {
   "cell_type": "markdown",
   "metadata": {},
   "source": [
    "**most complaints were made in the middle-*ish* of the month**"
   ]
  },
  {
   "cell_type": "code",
   "execution_count": 29,
   "metadata": {},
   "outputs": [
    {
     "name": "stdout",
     "output_type": "stream",
     "text": [
      "6004    48\n",
      "3024    43\n",
      "1124    39\n",
      "1263    32\n",
      "5171    32\n",
      "6099    31\n",
      "3058    30\n",
      "1292    28\n",
      "6081    27\n",
      "5167    27\n",
      "Name: car_number, dtype: int64\n"
     ]
    },
    {
     "data": {
      "text/plain": [
       "<matplotlib.axes._subplots.AxesSubplot at 0x238b66d62b0>"
      ]
     },
     "execution_count": 29,
     "metadata": {},
     "output_type": "execute_result"
    },
    {
     "data": {
      "image/png": "[encoded data removed]",
      "text/plain": [
       "<Figure size 432x288 with 1 Axes>"
      ]
     },
     "metadata": {
      "needs_background": "light"
     },
     "output_type": "display_data"
    }
   ],
   "source": [
    "print(data.car_number.value_counts().head(10))\n",
    "\n",
    "data.car_number.value_counts().head(10).plot.bar()"
   ]
  },
  {
   "cell_type": "markdown",
   "metadata": {},
   "source": [
    "**This gives us the top 10 cars that received the most complaints**  \n",
    "**Car 6004 really needs to get it's AC fixed**"
   ]
  },
  {
   "cell_type": "code",
   "execution_count": 30,
   "metadata": {},
   "outputs": [
    {
     "data": {
      "image/png": "[encoded data removed]",
      "text/plain": [
       "<Figure size 576x432 with 1 Axes>"
      ]
     },
     "metadata": {
      "needs_background": "light"
     },
     "output_type": "display_data"
    }
   ],
   "source": [
    "data.car_number.value_counts().head(10).plot(kind='bar',figsize=(8 ,6));\n",
    "plt.grid(which='major', linestyle='-', linewidth='0.5', color='green');\n",
    "plt.grid(which='minor', linestyle=':', linewidth='0.5', color='black');\n",
    "plt.show()"
   ]
  },
  {
   "cell_type": "code",
   "execution_count": 31,
   "metadata": {},
   "outputs": [
    {
     "name": "stdout",
     "output_type": "stream",
     "text": [
      "RED       1705\n",
      "ORANGE    1053\n",
      "YELLOW     535\n",
      "BLUE       436\n",
      "NONE       400\n",
      "GREEN      356\n",
      "SILVER     309\n",
      "Name: color, dtype: int64\n"
     ]
    },
    {
     "data": {
      "text/plain": [
       "<matplotlib.axes._subplots.AxesSubplot at 0x238b67a6898>"
      ]
     },
     "execution_count": 31,
     "metadata": {},
     "output_type": "execute_result"
    },
    {
     "data": {
      "image/png": "[encoded data removed]",
      "text/plain": [
       "<Figure size 432x288 with 1 Axes>"
      ]
     },
     "metadata": {
      "needs_background": "light"
     },
     "output_type": "display_data"
    }
   ],
   "source": [
    "print(data.color.value_counts())\n",
    "\n",
    "data.color.value_counts().plot.bar()"
   ]
  },
  {
   "cell_type": "markdown",
   "metadata": {},
   "source": [
    "**The number of complaints per line.  \n",
    "Red line wins by a landslide.**"
   ]
  },
  {
   "cell_type": "code",
   "execution_count": 32,
   "metadata": {},
   "outputs": [
    {
     "name": "stdout",
     "output_type": "stream",
     "text": [
      "EdChernosky        125\n",
      "LowHeadways        104\n",
      "UnleafTheKraken     49\n",
      "Tracktwentynine     39\n",
      "rmwc1995            38\n",
      "HakunaWMATA         38\n",
      "KathrynAegis        38\n",
      "goldsmitht          37\n",
      "pjroddyjr           35\n",
      "lissabrennan        34\n",
      "Name: handle, dtype: int64\n"
     ]
    },
    {
     "data": {
      "text/plain": [
       "<matplotlib.axes._subplots.AxesSubplot at 0x238b682de48>"
      ]
     },
     "execution_count": 32,
     "metadata": {},
     "output_type": "execute_result"
    },
    {
     "data": {
      "image/png": "[encoded data removed]",
      "text/plain": [
       "<Figure size 432x288 with 1 Axes>"
      ]
     },
     "metadata": {
      "needs_background": "light"
     },
     "output_type": "display_data"
    }
   ],
   "source": [
    "print(data.handle.value_counts().head(10))\n",
    "\n",
    "data.handle.value_counts().head(10).plot.bar()"
   ]
  },
  {
   "cell_type": "markdown",
   "metadata": {},
   "source": [
    "**The top 10 twitter users that tweet the most hotcar complaints. \n",
    "We can assume they are very usual metro riders...**"
   ]
  },
  {
   "cell_type": "code",
   "execution_count": 33,
   "metadata": {},
   "outputs": [
    {
     "name": "stdout",
     "output_type": "stream",
     "text": [
      "1    1395\n",
      "2    1306\n",
      "3    1210\n",
      "0    1106\n",
      "4    1050\n",
      "5     227\n",
      "6     146\n",
      "Name: weekday, dtype: int64\n"
     ]
    },
    {
     "data": {
      "image/png": "[encoded data removed]",
      "text/plain": [
       "<Figure size 432x288 with 1 Axes>"
      ]
     },
     "metadata": {
      "needs_background": "light"
     },
     "output_type": "display_data"
    }
   ],
   "source": [
    "print(data.weekday.value_counts())\n",
    "\n",
    "import matplotlib.pyplot as plt\n",
    "data.weekday.value_counts().plot.bar();\n",
    "plt.title('Tweets per day of the week')\n",
    "plt.xlabel('Day of the Week');\n",
    "plt.ylabel('Number of tweets');\n",
    "plt.show()"
   ]
  },
  {
   "cell_type": "markdown",
   "metadata": {},
   "source": [
    "**Number of complaints received per day of week.**  \n",
    "**Workdays (Mon-Fri) receive the overwhemling amount of complaints**"
   ]
  },
  {
   "cell_type": "code",
   "execution_count": 34,
   "metadata": {},
   "outputs": [
    {
     "name": "stdout",
     "output_type": "stream",
     "text": [
      "2016    2235\n",
      "2015    1184\n",
      "2014     856\n",
      "2013     854\n",
      "2017     794\n",
      "2018     514\n",
      "2019       3\n",
      "Name: year, dtype: int64\n"
     ]
    },
    {
     "data": {
      "image/png": "[encoded data removed]",
      "text/plain": [
       "<Figure size 432x288 with 1 Axes>"
      ]
     },
     "metadata": {
      "needs_background": "light"
     },
     "output_type": "display_data"
    }
   ],
   "source": [
    "print(data.year.value_counts())\n",
    "\n",
    "data.year.value_counts().plot.bar();\n",
    "plt.title('Tweets per year')\n",
    "plt.xlabel('Yeark');\n",
    "plt.ylabel('Number of tweets');\n",
    "plt.show()"
   ]
  },
  {
   "cell_type": "markdown",
   "metadata": {},
   "source": [
    "**Number of complaints received per year.**  \n",
    "**There has been a steady decrease since 2016.  This could also be from reporting issues, so it should be taken with a grain of salt.**"
   ]
  },
  {
   "cell_type": "code",
   "execution_count": 35,
   "metadata": {},
   "outputs": [
    {
     "name": "stdout",
     "output_type": "stream",
     "text": [
      "3    4071\n",
      "2    1934\n",
      "4     311\n",
      "1     124\n",
      "Name: season, dtype: int64\n"
     ]
    },
    {
     "data": {
      "image/png": "[encoded data removed]",
      "text/plain": [
       "<Figure size 432x288 with 1 Axes>"
      ]
     },
     "metadata": {
      "needs_background": "light"
     },
     "output_type": "display_data"
    }
   ],
   "source": [
    "print(data.season.value_counts())\n",
    "\n",
    "data.season.value_counts().plot.bar();\n",
    "plt.title('Tweets per Quarter');\n",
    "plt.xlabel('Quarter');\n",
    "plt.ylabel('Tweet counts');\n",
    "plt.show()"
   ]
  },
  {
   "cell_type": "markdown",
   "metadata": {},
   "source": [
    "**Number of complaints received per quarter(season).**  \n",
    "**BIggest number of tweets/complaints are in quarters 2 and 3 (April - September) the hottest months in D.C.**"
   ]
  },
  {
   "cell_type": "code",
   "execution_count": null,
   "metadata": {},
   "outputs": [],
   "source": []
  },
  {
   "cell_type": "markdown",
   "metadata": {},
   "source": [
    "# Modeling the Data\n",
    "- I'm not sure what to predict here.  \n",
    "    - I'm thinking we could predict what days are most likely to have a hot car. \n",
    "    - We can do this by season, month, and day (work day or not)"
   ]
  },
  {
   "cell_type": "code",
   "execution_count": null,
   "metadata": {},
   "outputs": [],
   "source": []
  },
  {
   "cell_type": "code",
   "execution_count": null,
   "metadata": {},
   "outputs": [],
   "source": []
  }
 ],
 "metadata": {
  "kernelspec": {
   "display_name": "Python 3",
   "language": "python",
   "name": "python3"
  },
  "language_info": {
   "codemirror_mode": {
    "name": "ipython",
    "version": 3
   },
   "file_extension": ".py",
   "mimetype": "text/x-python",
   "name": "python",
   "nbconvert_exporter": "python",
   "pygments_lexer": "ipython3",
   "version": "3.7.3"
  }
 },
 "nbformat": 4,
 "nbformat_minor": 4
}
