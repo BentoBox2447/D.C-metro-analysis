{
 "cells": [
  {
   "cell_type": "code",
   "execution_count": 1,
   "metadata": {},
   "outputs": [],
   "source": [
    "import pandas as pd\n",
    "df = pd.read_csv('https://query.data.world/s/2nddy726bjuha5ilbbvkipaprfufsh')"
   ]
  },
  {
   "cell_type": "code",
   "execution_count": 2,
   "metadata": {},
   "outputs": [
    {
     "data": {
      "text/html": [
       "<div>\n",
       "<style scoped>\n",
       "    .dataframe tbody tr th:only-of-type {\n",
       "        vertical-align: middle;\n",
       "    }\n",
       "\n",
       "    .dataframe tbody tr th {\n",
       "        vertical-align: top;\n",
       "    }\n",
       "\n",
       "    .dataframe thead th {\n",
       "        text-align: right;\n",
       "    }\n",
       "</style>\n",
       "<table border=\"1\" class=\"dataframe\">\n",
       "  <thead>\n",
       "    <tr style=\"text-align: right;\">\n",
       "      <th></th>\n",
       "      <th>Date</th>\n",
       "      <th>Time</th>\n",
       "      <th>Incident</th>\n",
       "      <th>Line</th>\n",
       "      <th>Direction</th>\n",
       "      <th>Cause</th>\n",
       "      <th>Delay</th>\n",
       "    </tr>\n",
       "  </thead>\n",
       "  <tbody>\n",
       "    <tr>\n",
       "      <th>0</th>\n",
       "      <td>12/31/2012</td>\n",
       "      <td>5:00 a.m.</td>\n",
       "      <td>A Fort Totten-bound Yellow Line train at Brad...</td>\n",
       "      <td>Yellow</td>\n",
       "      <td>Fort Totten</td>\n",
       "      <td>an operational problem</td>\n",
       "      <td>13.0</td>\n",
       "    </tr>\n",
       "    <tr>\n",
       "      <th>1</th>\n",
       "      <td>12/31/2012</td>\n",
       "      <td>10:30 a.m.</td>\n",
       "      <td>A Grosvenor-bound Red Line train at Gallery P...</td>\n",
       "      <td>Red</td>\n",
       "      <td>Grosvenor</td>\n",
       "      <td>an equipment problem</td>\n",
       "      <td>6.0</td>\n",
       "    </tr>\n",
       "    <tr>\n",
       "      <th>2</th>\n",
       "      <td>12/31/2012</td>\n",
       "      <td>4:11 p.m.</td>\n",
       "      <td>A Greenbelt-bound Green Line train at Branch ...</td>\n",
       "      <td>Green</td>\n",
       "      <td>Greenbelt</td>\n",
       "      <td>an operational problem</td>\n",
       "      <td>4.0</td>\n",
       "    </tr>\n",
       "    <tr>\n",
       "      <th>3</th>\n",
       "      <td>12/31/2012</td>\n",
       "      <td>4:50 p.m.</td>\n",
       "      <td>A Greenbelt-bound Green Line train at Shaw-Ho...</td>\n",
       "      <td>Green</td>\n",
       "      <td>Greenbelt</td>\n",
       "      <td>an equipment problem</td>\n",
       "      <td>3.0</td>\n",
       "    </tr>\n",
       "    <tr>\n",
       "      <th>4</th>\n",
       "      <td>12/31/2012</td>\n",
       "      <td>5:55 p.m.</td>\n",
       "      <td>A Largo Town Center-bound Blue Line train at ...</td>\n",
       "      <td>Blue</td>\n",
       "      <td>Largo Town Center</td>\n",
       "      <td>a brake problem</td>\n",
       "      <td>9.0</td>\n",
       "    </tr>\n",
       "  </tbody>\n",
       "</table>\n",
       "</div>"
      ],
      "text/plain": [
       "         Date        Time                                           Incident  \\\n",
       "0  12/31/2012   5:00 a.m.   A Fort Totten-bound Yellow Line train at Brad...   \n",
       "1  12/31/2012  10:30 a.m.   A Grosvenor-bound Red Line train at Gallery P...   \n",
       "2  12/31/2012   4:11 p.m.   A Greenbelt-bound Green Line train at Branch ...   \n",
       "3  12/31/2012   4:50 p.m.   A Greenbelt-bound Green Line train at Shaw-Ho...   \n",
       "4  12/31/2012   5:55 p.m.   A Largo Town Center-bound Blue Line train at ...   \n",
       "\n",
       "     Line          Direction                   Cause  Delay  \n",
       "0  Yellow        Fort Totten  an operational problem   13.0  \n",
       "1     Red          Grosvenor    an equipment problem    6.0  \n",
       "2   Green          Greenbelt  an operational problem    4.0  \n",
       "3   Green          Greenbelt    an equipment problem    3.0  \n",
       "4    Blue  Largo Town Center         a brake problem    9.0  "
      ]
     },
     "execution_count": 2,
     "metadata": {},
     "output_type": "execute_result"
    }
   ],
   "source": [
    "df.head()"
   ]
  },
  {
   "cell_type": "code",
   "execution_count": 3,
   "metadata": {},
   "outputs": [
    {
     "data": {
      "text/plain": [
       "(27473, 7)"
      ]
     },
     "execution_count": 3,
     "metadata": {},
     "output_type": "execute_result"
    }
   ],
   "source": [
    "df.shape"
   ]
  },
  {
   "cell_type": "code",
   "execution_count": 4,
   "metadata": {},
   "outputs": [
    {
     "data": {
      "text/plain": [
       "Date          object\n",
       "Time          object\n",
       "Incident      object\n",
       "Line          object\n",
       "Direction     object\n",
       "Cause         object\n",
       "Delay        float64\n",
       "dtype: object"
      ]
     },
     "execution_count": 4,
     "metadata": {},
     "output_type": "execute_result"
    }
   ],
   "source": [
    "df.dtypes"
   ]
  },
  {
   "cell_type": "code",
   "execution_count": 6,
   "metadata": {},
   "outputs": [
    {
     "data": {
      "text/plain": [
       "did not operate                                            5446\n",
       "a brake problem                                            4792\n",
       "expressed for schedule adherence/improved train spacing    3675\n",
       "a door problem                                             3003\n",
       "an operational problem                                     2297\n",
       "an equipment problem                                       2054\n",
       "a signal problem                                           1293\n",
       "police activity                                             893\n",
       "a medical emergency                                         428\n",
       "a track problem                                             390\n",
       "Name: Cause, dtype: int64"
      ]
     },
     "execution_count": 6,
     "metadata": {},
     "output_type": "execute_result"
    }
   ],
   "source": [
    "df.Cause.value_counts().head(10)"
   ]
  },
  {
   "cell_type": "code",
   "execution_count": 8,
   "metadata": {},
   "outputs": [
    {
     "data": {
      "text/plain": [
       "Red       7865\n",
       "Orange    6100\n",
       "Green     4751\n",
       "Blue      3292\n",
       "Yellow    3008\n",
       "Silver    2399\n",
       "yellow       1\n",
       "Name: Line, dtype: int64"
      ]
     },
     "execution_count": 8,
     "metadata": {},
     "output_type": "execute_result"
    }
   ],
   "source": [
    "df.Line.value_counts()"
   ]
  },
  {
   "cell_type": "code",
   "execution_count": 16,
   "metadata": {},
   "outputs": [
    {
     "data": {
      "text/plain": [
       "a brake problem                                            2102\n",
       "a door problem                                             1052\n",
       "expressed for schedule adherence/improved train spacing    1046\n",
       "an equipment problem                                        781\n",
       "an operational problem                                      565\n",
       "did not operate                                             507\n",
       "a signal problem                                            411\n",
       "police activity                                             240\n",
       "a track problem                                             143\n",
       "a medical emergency                                         121\n",
       "Name: Cause, dtype: int64"
      ]
     },
     "execution_count": 16,
     "metadata": {},
     "output_type": "execute_result"
    }
   ],
   "source": [
    "df.loc[df['Line'].isin(['Red'])].Cause.value_counts().head(10)"
   ]
  },
  {
   "cell_type": "code",
   "execution_count": null,
   "metadata": {},
   "outputs": [],
   "source": []
  }
 ],
 "metadata": {
  "kernelspec": {
   "display_name": "Python 3",
   "language": "python",
   "name": "python3"
  },
  "language_info": {
   "codemirror_mode": {
    "name": "ipython",
    "version": 3
   },
   "file_extension": ".py",
   "mimetype": "text/x-python",
   "name": "python",
   "nbconvert_exporter": "python",
   "pygments_lexer": "ipython3",
   "version": "3.7.3"
  }
 },
 "nbformat": 4,
 "nbformat_minor": 4
}
