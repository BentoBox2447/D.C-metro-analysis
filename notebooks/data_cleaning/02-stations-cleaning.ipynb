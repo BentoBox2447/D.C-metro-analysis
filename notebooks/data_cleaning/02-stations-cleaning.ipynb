{
 "cells": [
  {
   "cell_type": "markdown",
   "metadata": {},
   "source": [
    "## stations.csv\n",
    "\n",
    "Each station is a row. Some stations have two station codes\n",
    "if they have two platforms serving different lines (Fort Totten,\n",
    "Gallery Place, L'Enfant, Metro Center).\n",
    "\n",
    "- *code*: The WMATA station code.\n",
    "- *long_name*: The full name of the station\n",
    "- *short_name*: A shortened name of the station, good for URL routing.\n",
    "- *line_code1-3*: The color code of the metro lines serving the station platform.\n",
    "- *other_station_code*: The station code of the other platform for a separate line at the same station. This applies to Fort Totten, Gallery Place, L'Enfant Plaza, and Metro Center.\n"
   ]
  },
  {
   "cell_type": "code",
   "execution_count": 1,
   "metadata": {},
   "outputs": [],
   "source": [
    "import pandas as pd"
   ]
  },
  {
   "cell_type": "code",
   "execution_count": 2,
   "metadata": {},
   "outputs": [],
   "source": [
    "data = pd.read_csv('data/stations.csv')"
   ]
  },
  {
   "cell_type": "code",
   "execution_count": 3,
   "metadata": {},
   "outputs": [
    {
     "data": {
      "text/html": [
       "<div>\n",
       "<style scoped>\n",
       "    .dataframe tbody tr th:only-of-type {\n",
       "        vertical-align: middle;\n",
       "    }\n",
       "\n",
       "    .dataframe tbody tr th {\n",
       "        vertical-align: top;\n",
       "    }\n",
       "\n",
       "    .dataframe thead th {\n",
       "        text-align: right;\n",
       "    }\n",
       "</style>\n",
       "<table border=\"1\" class=\"dataframe\">\n",
       "  <thead>\n",
       "    <tr style=\"text-align: right;\">\n",
       "      <th></th>\n",
       "      <th>code</th>\n",
       "      <th>long_name</th>\n",
       "      <th>short_name</th>\n",
       "      <th>line_code1</th>\n",
       "      <th>line_code2</th>\n",
       "      <th>line_code3</th>\n",
       "      <th>other_station_code</th>\n",
       "    </tr>\n",
       "  </thead>\n",
       "  <tbody>\n",
       "    <tr>\n",
       "      <th>0</th>\n",
       "      <td>F05</td>\n",
       "      <td>Navy Yard-Ballpark</td>\n",
       "      <td>NavyYard</td>\n",
       "      <td>GR</td>\n",
       "      <td>NaN</td>\n",
       "      <td>NaN</td>\n",
       "      <td>NaN</td>\n",
       "    </tr>\n",
       "    <tr>\n",
       "      <th>1</th>\n",
       "      <td>F04</td>\n",
       "      <td>Waterfront</td>\n",
       "      <td>Waterfront</td>\n",
       "      <td>GR</td>\n",
       "      <td>NaN</td>\n",
       "      <td>NaN</td>\n",
       "      <td>NaN</td>\n",
       "    </tr>\n",
       "    <tr>\n",
       "      <th>2</th>\n",
       "      <td>F07</td>\n",
       "      <td>Congress Heights</td>\n",
       "      <td>CongressHeights</td>\n",
       "      <td>GR</td>\n",
       "      <td>NaN</td>\n",
       "      <td>NaN</td>\n",
       "      <td>NaN</td>\n",
       "    </tr>\n",
       "    <tr>\n",
       "      <th>3</th>\n",
       "      <td>F06</td>\n",
       "      <td>Anacostia</td>\n",
       "      <td>Anacostia</td>\n",
       "      <td>GR</td>\n",
       "      <td>NaN</td>\n",
       "      <td>NaN</td>\n",
       "      <td>NaN</td>\n",
       "    </tr>\n",
       "    <tr>\n",
       "      <th>4</th>\n",
       "      <td>F01</td>\n",
       "      <td>Gallery Pl-Chinatown</td>\n",
       "      <td>GalleryPlace</td>\n",
       "      <td>GR</td>\n",
       "      <td>YL</td>\n",
       "      <td>NaN</td>\n",
       "      <td>B01</td>\n",
       "    </tr>\n",
       "  </tbody>\n",
       "</table>\n",
       "</div>"
      ],
      "text/plain": [
       "  code             long_name       short_name line_code1 line_code2  \\\n",
       "0  F05    Navy Yard-Ballpark         NavyYard         GR        NaN   \n",
       "1  F04            Waterfront       Waterfront         GR        NaN   \n",
       "2  F07      Congress Heights  CongressHeights         GR        NaN   \n",
       "3  F06             Anacostia        Anacostia         GR        NaN   \n",
       "4  F01  Gallery Pl-Chinatown     GalleryPlace         GR         YL   \n",
       "\n",
       "  line_code3 other_station_code  \n",
       "0        NaN                NaN  \n",
       "1        NaN                NaN  \n",
       "2        NaN                NaN  \n",
       "3        NaN                NaN  \n",
       "4        NaN                B01  "
      ]
     },
     "execution_count": 3,
     "metadata": {},
     "output_type": "execute_result"
    }
   ],
   "source": [
    "data.head()"
   ]
  },
  {
   "cell_type": "code",
   "execution_count": 4,
   "metadata": {},
   "outputs": [],
   "source": [
    "# What I want to do\n",
    "- This data looks pretty clean, I don't think I can do much to clean it\n",
    "    - I could rename the Line Code to the full color name, but not completely necessary\n",
    "- Use this to do some EDA and show how many metro stations they are"
   ]
  },
  {
   "cell_type": "code",
   "execution_count": null,
   "metadata": {},
   "outputs": [],
   "source": []
  }
 ],
 "metadata": {
  "kernelspec": {
   "display_name": "Python 3",
   "language": "python",
   "name": "python3"
  },
  "language_info": {
   "codemirror_mode": {
    "name": "ipython",
    "version": 3
   },
   "file_extension": ".py",
   "mimetype": "text/x-python",
   "name": "python",
   "nbconvert_exporter": "python",
   "pygments_lexer": "ipython3",
   "version": "3.7.3"
  }
 },
 "nbformat": 4,
 "nbformat_minor": 4
}
