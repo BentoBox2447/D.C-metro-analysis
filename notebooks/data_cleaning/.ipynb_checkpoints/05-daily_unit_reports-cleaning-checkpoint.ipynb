{
 "cells": [
  {
   "cell_type": "markdown",
   "metadata": {},
   "source": [
    "\n",
    "## daily_unit_reports.csv\n",
    "\n",
    "Daily summary of the performance of a single escalator or elevator.\n",
    "\n",
    "For accounting purposes, a \"Metro Day\" is considered to be the time between system openings. For example, the Metro Day corresponding to Sunday 2/22/2015 is 2/22/2015 7 AM EST (system opening Sunday) to 2/23/2015 5 AM EST (system opening Monday). Some outages are not discovered by Metro employees until the next calendar day (after system close). This accounting attempts to correct for that. Just a heads up.\n",
    "\n",
    " - *day*: The \"Metro day\" (see above)\n",
    " - *unit_id*: The unit id of the summary. \n",
    " - *num_fixes*: Number of *new* fixes for this unit on this day.\n",
    " - *num_inspections*: Number of *new* inspections for the unit on this day.\n",
    " - *num_breaks*: Number of *new* breaks of the unit on this day. \n",
    " - *availability*: The percentage of the time that Metro was open for which the unit was operating.\n",
    " - *broken_time_percentage*: The percentage of the time that Metro was open on this day for which the unit was broken (statuses with symptom_category == \"BROKEN\")."
   ]
  },
  {
   "cell_type": "code",
   "execution_count": 2,
   "metadata": {},
   "outputs": [],
   "source": [
    "import pandas as pd"
   ]
  },
  {
   "cell_type": "code",
   "execution_count": 4,
   "metadata": {},
   "outputs": [],
   "source": [
    "data = pd.read_csv('data/daily_unit_reports.csv')"
   ]
  },
  {
   "cell_type": "code",
   "execution_count": 5,
   "metadata": {},
   "outputs": [
    {
     "data": {
      "text/html": [
       "<div>\n",
       "<style scoped>\n",
       "    .dataframe tbody tr th:only-of-type {\n",
       "        vertical-align: middle;\n",
       "    }\n",
       "\n",
       "    .dataframe tbody tr th {\n",
       "        vertical-align: top;\n",
       "    }\n",
       "\n",
       "    .dataframe thead th {\n",
       "        text-align: right;\n",
       "    }\n",
       "</style>\n",
       "<table border=\"1\" class=\"dataframe\">\n",
       "  <thead>\n",
       "    <tr style=\"text-align: right;\">\n",
       "      <th></th>\n",
       "      <th>day</th>\n",
       "      <th>num_fixes</th>\n",
       "      <th>num_inspections</th>\n",
       "      <th>num_breaks</th>\n",
       "      <th>availability</th>\n",
       "      <th>broken_time_percentage</th>\n",
       "      <th>unit_id</th>\n",
       "    </tr>\n",
       "  </thead>\n",
       "  <tbody>\n",
       "    <tr>\n",
       "      <th>0</th>\n",
       "      <td>2013-06-01</td>\n",
       "      <td>0</td>\n",
       "      <td>0</td>\n",
       "      <td>0</td>\n",
       "      <td>1.0</td>\n",
       "      <td>0.0</td>\n",
       "      <td>K04X11ESCALATOR</td>\n",
       "    </tr>\n",
       "    <tr>\n",
       "      <th>1</th>\n",
       "      <td>2013-06-01</td>\n",
       "      <td>0</td>\n",
       "      <td>0</td>\n",
       "      <td>0</td>\n",
       "      <td>1.0</td>\n",
       "      <td>0.0</td>\n",
       "      <td>G03X01ESCALATOR</td>\n",
       "    </tr>\n",
       "    <tr>\n",
       "      <th>2</th>\n",
       "      <td>2013-06-01</td>\n",
       "      <td>0</td>\n",
       "      <td>0</td>\n",
       "      <td>0</td>\n",
       "      <td>1.0</td>\n",
       "      <td>0.0</td>\n",
       "      <td>C06X05ESCALATOR</td>\n",
       "    </tr>\n",
       "    <tr>\n",
       "      <th>3</th>\n",
       "      <td>2013-06-01</td>\n",
       "      <td>0</td>\n",
       "      <td>0</td>\n",
       "      <td>0</td>\n",
       "      <td>1.0</td>\n",
       "      <td>0.0</td>\n",
       "      <td>K04X06ESCALATOR</td>\n",
       "    </tr>\n",
       "    <tr>\n",
       "      <th>4</th>\n",
       "      <td>2013-06-01</td>\n",
       "      <td>0</td>\n",
       "      <td>0</td>\n",
       "      <td>0</td>\n",
       "      <td>1.0</td>\n",
       "      <td>0.0</td>\n",
       "      <td>K04X07ESCALATOR</td>\n",
       "    </tr>\n",
       "  </tbody>\n",
       "</table>\n",
       "</div>"
      ],
      "text/plain": [
       "          day  num_fixes  num_inspections  num_breaks  availability  \\\n",
       "0  2013-06-01          0                0           0           1.0   \n",
       "1  2013-06-01          0                0           0           1.0   \n",
       "2  2013-06-01          0                0           0           1.0   \n",
       "3  2013-06-01          0                0           0           1.0   \n",
       "4  2013-06-01          0                0           0           1.0   \n",
       "\n",
       "   broken_time_percentage          unit_id  \n",
       "0                     0.0  K04X11ESCALATOR  \n",
       "1                     0.0  G03X01ESCALATOR  \n",
       "2                     0.0  C06X05ESCALATOR  \n",
       "3                     0.0  K04X06ESCALATOR  \n",
       "4                     0.0  K04X07ESCALATOR  "
      ]
     },
     "execution_count": 5,
     "metadata": {},
     "output_type": "execute_result"
    }
   ],
   "source": [
    "data.head()"
   ]
  },
  {
   "cell_type": "markdown",
   "metadata": {},
   "source": [
    "# What I want to do\n",
    "- Break up the 'day' column\n",
    "    - 'year', 'month', 'day'\n",
    "- break up the 'unit_id' column\n",
    "    - 'unit' which has escelator or elevator \n",
    "    - 'unit_id' which has the unit number (ex :K04X11 )"
   ]
  },
  {
   "cell_type": "code",
   "execution_count": null,
   "metadata": {},
   "outputs": [],
   "source": []
  }
 ],
 "metadata": {
  "kernelspec": {
   "display_name": "Python 3",
   "language": "python",
   "name": "python3"
  },
  "language_info": {
   "codemirror_mode": {
    "name": "ipython",
    "version": 3
   },
   "file_extension": ".py",
   "mimetype": "text/x-python",
   "name": "python",
   "nbconvert_exporter": "python",
   "pygments_lexer": "ipython3",
   "version": "3.7.3"
  }
 },
 "nbformat": 4,
 "nbformat_minor": 4
}
