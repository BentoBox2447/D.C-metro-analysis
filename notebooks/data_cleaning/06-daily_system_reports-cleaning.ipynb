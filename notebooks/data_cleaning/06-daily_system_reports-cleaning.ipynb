{
 "cells": [
  {
   "cell_type": "markdown",
   "metadata": {},
   "source": [
    "## daily_system_reports.csv\n",
    "\n",
    "The averages of all daily_unit_reports.csv for a given day, to provide a system wide snapshot.\n",
    "\n",
    " - *day*\n",
    " - *elevators_num_fixes*\n",
    " - *escalators_availability*\n",
    " - *escalators_num_fixes*\n",
    " - *elevators_num_inspections*\n",
    " - *elevators_num_breaks*\n",
    " - *escalators_num_inspections*\n",
    " - *elevators_num_units*: Number of elevators included in the daily system report.\n",
    " - *escalators_num_units*: Number of escalators included in the daily system report.\n",
    " - *escalators_num_breaks*\n",
    " - *elevators_broken_time_percentage*\n",
    " - *elevators_availability*\n",
    " - *escalators_broken_time_percentage*"
   ]
  },
  {
   "cell_type": "code",
   "execution_count": 16,
   "metadata": {},
   "outputs": [],
   "source": [
    "import pandas as pd"
   ]
  },
  {
   "cell_type": "code",
   "execution_count": 35,
   "metadata": {},
   "outputs": [],
   "source": [
    "data = pd.read_csv('C:\\\\Users\\\\606569\\\\Documents\\\\my_GitHub\\\\D.C-metro-analysis\\\\data\\\\daily_system_reports.csv')"
   ]
  },
  {
   "cell_type": "code",
   "execution_count": 36,
   "metadata": {},
   "outputs": [
    {
     "data": {
      "text/html": [
       "<div>\n",
       "<style scoped>\n",
       "    .dataframe tbody tr th:only-of-type {\n",
       "        vertical-align: middle;\n",
       "    }\n",
       "\n",
       "    .dataframe tbody tr th {\n",
       "        vertical-align: top;\n",
       "    }\n",
       "\n",
       "    .dataframe thead th {\n",
       "        text-align: right;\n",
       "    }\n",
       "</style>\n",
       "<table border=\"1\" class=\"dataframe\">\n",
       "  <thead>\n",
       "    <tr style=\"text-align: right;\">\n",
       "      <th></th>\n",
       "      <th>elevators_num_fixes</th>\n",
       "      <th>escalators_availability</th>\n",
       "      <th>escalators_num_fixes</th>\n",
       "      <th>elevators_num_inspections</th>\n",
       "      <th>elevators_num_breaks</th>\n",
       "      <th>escalators_num_inspections</th>\n",
       "      <th>elevators_num_units</th>\n",
       "      <th>escalators_num_units</th>\n",
       "      <th>escalators_num_breaks</th>\n",
       "      <th>elevators_broken_time_percentage</th>\n",
       "      <th>elevators_availability</th>\n",
       "      <th>day</th>\n",
       "      <th>escalators_broken_time_percentage</th>\n",
       "    </tr>\n",
       "  </thead>\n",
       "  <tbody>\n",
       "    <tr>\n",
       "      <th>0</th>\n",
       "      <td>0</td>\n",
       "      <td>0.934766</td>\n",
       "      <td>32</td>\n",
       "      <td>0</td>\n",
       "      <td>0</td>\n",
       "      <td>1</td>\n",
       "      <td>0</td>\n",
       "      <td>588</td>\n",
       "      <td>59</td>\n",
       "      <td>0.0</td>\n",
       "      <td>1.0</td>\n",
       "      <td>2013-06-01</td>\n",
       "      <td>0.036173</td>\n",
       "    </tr>\n",
       "    <tr>\n",
       "      <th>1</th>\n",
       "      <td>0</td>\n",
       "      <td>0.920018</td>\n",
       "      <td>73</td>\n",
       "      <td>0</td>\n",
       "      <td>0</td>\n",
       "      <td>35</td>\n",
       "      <td>0</td>\n",
       "      <td>588</td>\n",
       "      <td>61</td>\n",
       "      <td>0.0</td>\n",
       "      <td>1.0</td>\n",
       "      <td>2013-06-02</td>\n",
       "      <td>0.049931</td>\n",
       "    </tr>\n",
       "    <tr>\n",
       "      <th>2</th>\n",
       "      <td>0</td>\n",
       "      <td>0.935932</td>\n",
       "      <td>71</td>\n",
       "      <td>0</td>\n",
       "      <td>0</td>\n",
       "      <td>46</td>\n",
       "      <td>0</td>\n",
       "      <td>588</td>\n",
       "      <td>71</td>\n",
       "      <td>0.0</td>\n",
       "      <td>1.0</td>\n",
       "      <td>2013-06-03</td>\n",
       "      <td>0.032025</td>\n",
       "    </tr>\n",
       "    <tr>\n",
       "      <th>3</th>\n",
       "      <td>0</td>\n",
       "      <td>0.935348</td>\n",
       "      <td>59</td>\n",
       "      <td>0</td>\n",
       "      <td>0</td>\n",
       "      <td>63</td>\n",
       "      <td>0</td>\n",
       "      <td>588</td>\n",
       "      <td>58</td>\n",
       "      <td>0.0</td>\n",
       "      <td>1.0</td>\n",
       "      <td>2013-06-04</td>\n",
       "      <td>0.027606</td>\n",
       "    </tr>\n",
       "    <tr>\n",
       "      <th>4</th>\n",
       "      <td>0</td>\n",
       "      <td>0.936133</td>\n",
       "      <td>62</td>\n",
       "      <td>0</td>\n",
       "      <td>0</td>\n",
       "      <td>42</td>\n",
       "      <td>0</td>\n",
       "      <td>588</td>\n",
       "      <td>66</td>\n",
       "      <td>0.0</td>\n",
       "      <td>1.0</td>\n",
       "      <td>2013-06-05</td>\n",
       "      <td>0.031049</td>\n",
       "    </tr>\n",
       "  </tbody>\n",
       "</table>\n",
       "</div>"
      ],
      "text/plain": [
       "   elevators_num_fixes  escalators_availability  escalators_num_fixes  \\\n",
       "0                    0                 0.934766                    32   \n",
       "1                    0                 0.920018                    73   \n",
       "2                    0                 0.935932                    71   \n",
       "3                    0                 0.935348                    59   \n",
       "4                    0                 0.936133                    62   \n",
       "\n",
       "   elevators_num_inspections  elevators_num_breaks  \\\n",
       "0                          0                     0   \n",
       "1                          0                     0   \n",
       "2                          0                     0   \n",
       "3                          0                     0   \n",
       "4                          0                     0   \n",
       "\n",
       "   escalators_num_inspections  elevators_num_units  escalators_num_units  \\\n",
       "0                           1                    0                   588   \n",
       "1                          35                    0                   588   \n",
       "2                          46                    0                   588   \n",
       "3                          63                    0                   588   \n",
       "4                          42                    0                   588   \n",
       "\n",
       "   escalators_num_breaks  elevators_broken_time_percentage  \\\n",
       "0                     59                               0.0   \n",
       "1                     61                               0.0   \n",
       "2                     71                               0.0   \n",
       "3                     58                               0.0   \n",
       "4                     66                               0.0   \n",
       "\n",
       "   elevators_availability         day  escalators_broken_time_percentage  \n",
       "0                     1.0  2013-06-01                           0.036173  \n",
       "1                     1.0  2013-06-02                           0.049931  \n",
       "2                     1.0  2013-06-03                           0.032025  \n",
       "3                     1.0  2013-06-04                           0.027606  \n",
       "4                     1.0  2013-06-05                           0.031049  "
      ]
     },
     "execution_count": 36,
     "metadata": {},
     "output_type": "execute_result"
    }
   ],
   "source": [
    "data.head()"
   ]
  },
  {
   "cell_type": "markdown",
   "metadata": {},
   "source": [
    "This df is quite big, so to make this df more managable, I will break it down to different escalators and elevators df's, instead of having both on 1 df"
   ]
  },
  {
   "cell_type": "code",
   "execution_count": 37,
   "metadata": {},
   "outputs": [
    {
     "data": {
      "text/plain": [
       "Index(['elevators_num_fixes', 'escalators_availability',\n",
       "       'escalators_num_fixes', 'elevators_num_inspections',\n",
       "       'elevators_num_breaks', 'escalators_num_inspections',\n",
       "       'elevators_num_units', 'escalators_num_units', 'escalators_num_breaks',\n",
       "       'elevators_broken_time_percentage', 'elevators_availability', 'day',\n",
       "       'escalators_broken_time_percentage'],\n",
       "      dtype='object')"
      ]
     },
     "execution_count": 37,
     "metadata": {},
     "output_type": "execute_result"
    }
   ],
   "source": [
    "data.columns"
   ]
  },
  {
   "cell_type": "code",
   "execution_count": 38,
   "metadata": {},
   "outputs": [],
   "source": [
    "escalators = data.drop(['elevators_num_fixes',\n",
    "       'elevators_num_inspections',\n",
    "       'elevators_num_breaks', \n",
    "       'elevators_num_units',\n",
    "       'elevators_broken_time_percentage', \n",
    "        'elevators_availability'], axis=1)"
   ]
  },
  {
   "cell_type": "code",
   "execution_count": 39,
   "metadata": {},
   "outputs": [],
   "source": [
    "elevators = data.drop(['escalators_availability',\n",
    "       'escalators_num_fixes',\n",
    "       'escalators_num_inspections',\n",
    "      'escalators_num_units', 'escalators_num_breaks',\n",
    "       'escalators_broken_time_percentage'], axis = 1)"
   ]
  },
  {
   "cell_type": "code",
   "execution_count": 40,
   "metadata": {},
   "outputs": [
    {
     "data": {
      "text/html": [
       "<div>\n",
       "<style scoped>\n",
       "    .dataframe tbody tr th:only-of-type {\n",
       "        vertical-align: middle;\n",
       "    }\n",
       "\n",
       "    .dataframe tbody tr th {\n",
       "        vertical-align: top;\n",
       "    }\n",
       "\n",
       "    .dataframe thead th {\n",
       "        text-align: right;\n",
       "    }\n",
       "</style>\n",
       "<table border=\"1\" class=\"dataframe\">\n",
       "  <thead>\n",
       "    <tr style=\"text-align: right;\">\n",
       "      <th></th>\n",
       "      <th>escalators_availability</th>\n",
       "      <th>escalators_num_fixes</th>\n",
       "      <th>escalators_num_inspections</th>\n",
       "      <th>escalators_num_units</th>\n",
       "      <th>escalators_num_breaks</th>\n",
       "      <th>day</th>\n",
       "      <th>escalators_broken_time_percentage</th>\n",
       "    </tr>\n",
       "  </thead>\n",
       "  <tbody>\n",
       "    <tr>\n",
       "      <th>0</th>\n",
       "      <td>0.934766</td>\n",
       "      <td>32</td>\n",
       "      <td>1</td>\n",
       "      <td>588</td>\n",
       "      <td>59</td>\n",
       "      <td>2013-06-01</td>\n",
       "      <td>0.036173</td>\n",
       "    </tr>\n",
       "    <tr>\n",
       "      <th>1</th>\n",
       "      <td>0.920018</td>\n",
       "      <td>73</td>\n",
       "      <td>35</td>\n",
       "      <td>588</td>\n",
       "      <td>61</td>\n",
       "      <td>2013-06-02</td>\n",
       "      <td>0.049931</td>\n",
       "    </tr>\n",
       "    <tr>\n",
       "      <th>2</th>\n",
       "      <td>0.935932</td>\n",
       "      <td>71</td>\n",
       "      <td>46</td>\n",
       "      <td>588</td>\n",
       "      <td>71</td>\n",
       "      <td>2013-06-03</td>\n",
       "      <td>0.032025</td>\n",
       "    </tr>\n",
       "    <tr>\n",
       "      <th>3</th>\n",
       "      <td>0.935348</td>\n",
       "      <td>59</td>\n",
       "      <td>63</td>\n",
       "      <td>588</td>\n",
       "      <td>58</td>\n",
       "      <td>2013-06-04</td>\n",
       "      <td>0.027606</td>\n",
       "    </tr>\n",
       "    <tr>\n",
       "      <th>4</th>\n",
       "      <td>0.936133</td>\n",
       "      <td>62</td>\n",
       "      <td>42</td>\n",
       "      <td>588</td>\n",
       "      <td>66</td>\n",
       "      <td>2013-06-05</td>\n",
       "      <td>0.031049</td>\n",
       "    </tr>\n",
       "  </tbody>\n",
       "</table>\n",
       "</div>"
      ],
      "text/plain": [
       "   escalators_availability  escalators_num_fixes  escalators_num_inspections  \\\n",
       "0                 0.934766                    32                           1   \n",
       "1                 0.920018                    73                          35   \n",
       "2                 0.935932                    71                          46   \n",
       "3                 0.935348                    59                          63   \n",
       "4                 0.936133                    62                          42   \n",
       "\n",
       "   escalators_num_units  escalators_num_breaks         day  \\\n",
       "0                   588                     59  2013-06-01   \n",
       "1                   588                     61  2013-06-02   \n",
       "2                   588                     71  2013-06-03   \n",
       "3                   588                     58  2013-06-04   \n",
       "4                   588                     66  2013-06-05   \n",
       "\n",
       "   escalators_broken_time_percentage  \n",
       "0                           0.036173  \n",
       "1                           0.049931  \n",
       "2                           0.032025  \n",
       "3                           0.027606  \n",
       "4                           0.031049  "
      ]
     },
     "execution_count": 40,
     "metadata": {},
     "output_type": "execute_result"
    }
   ],
   "source": [
    "escalators.head()"
   ]
  },
  {
   "cell_type": "code",
   "execution_count": 41,
   "metadata": {},
   "outputs": [
    {
     "data": {
      "text/html": [
       "<div>\n",
       "<style scoped>\n",
       "    .dataframe tbody tr th:only-of-type {\n",
       "        vertical-align: middle;\n",
       "    }\n",
       "\n",
       "    .dataframe tbody tr th {\n",
       "        vertical-align: top;\n",
       "    }\n",
       "\n",
       "    .dataframe thead th {\n",
       "        text-align: right;\n",
       "    }\n",
       "</style>\n",
       "<table border=\"1\" class=\"dataframe\">\n",
       "  <thead>\n",
       "    <tr style=\"text-align: right;\">\n",
       "      <th></th>\n",
       "      <th>elevators_num_fixes</th>\n",
       "      <th>elevators_num_inspections</th>\n",
       "      <th>elevators_num_breaks</th>\n",
       "      <th>elevators_num_units</th>\n",
       "      <th>elevators_broken_time_percentage</th>\n",
       "      <th>elevators_availability</th>\n",
       "      <th>day</th>\n",
       "    </tr>\n",
       "  </thead>\n",
       "  <tbody>\n",
       "    <tr>\n",
       "      <th>0</th>\n",
       "      <td>0</td>\n",
       "      <td>0</td>\n",
       "      <td>0</td>\n",
       "      <td>0</td>\n",
       "      <td>0.0</td>\n",
       "      <td>1.0</td>\n",
       "      <td>2013-06-01</td>\n",
       "    </tr>\n",
       "    <tr>\n",
       "      <th>1</th>\n",
       "      <td>0</td>\n",
       "      <td>0</td>\n",
       "      <td>0</td>\n",
       "      <td>0</td>\n",
       "      <td>0.0</td>\n",
       "      <td>1.0</td>\n",
       "      <td>2013-06-02</td>\n",
       "    </tr>\n",
       "    <tr>\n",
       "      <th>2</th>\n",
       "      <td>0</td>\n",
       "      <td>0</td>\n",
       "      <td>0</td>\n",
       "      <td>0</td>\n",
       "      <td>0.0</td>\n",
       "      <td>1.0</td>\n",
       "      <td>2013-06-03</td>\n",
       "    </tr>\n",
       "    <tr>\n",
       "      <th>3</th>\n",
       "      <td>0</td>\n",
       "      <td>0</td>\n",
       "      <td>0</td>\n",
       "      <td>0</td>\n",
       "      <td>0.0</td>\n",
       "      <td>1.0</td>\n",
       "      <td>2013-06-04</td>\n",
       "    </tr>\n",
       "    <tr>\n",
       "      <th>4</th>\n",
       "      <td>0</td>\n",
       "      <td>0</td>\n",
       "      <td>0</td>\n",
       "      <td>0</td>\n",
       "      <td>0.0</td>\n",
       "      <td>1.0</td>\n",
       "      <td>2013-06-05</td>\n",
       "    </tr>\n",
       "  </tbody>\n",
       "</table>\n",
       "</div>"
      ],
      "text/plain": [
       "   elevators_num_fixes  elevators_num_inspections  elevators_num_breaks  \\\n",
       "0                    0                          0                     0   \n",
       "1                    0                          0                     0   \n",
       "2                    0                          0                     0   \n",
       "3                    0                          0                     0   \n",
       "4                    0                          0                     0   \n",
       "\n",
       "   elevators_num_units  elevators_broken_time_percentage  \\\n",
       "0                    0                               0.0   \n",
       "1                    0                               0.0   \n",
       "2                    0                               0.0   \n",
       "3                    0                               0.0   \n",
       "4                    0                               0.0   \n",
       "\n",
       "   elevators_availability         day  \n",
       "0                     1.0  2013-06-01  \n",
       "1                     1.0  2013-06-02  \n",
       "2                     1.0  2013-06-03  \n",
       "3                     1.0  2013-06-04  \n",
       "4                     1.0  2013-06-05  "
      ]
     },
     "execution_count": 41,
     "metadata": {},
     "output_type": "execute_result"
    }
   ],
   "source": [
    "elevators.head()"
   ]
  },
  {
   "cell_type": "markdown",
   "metadata": {},
   "source": [
    "# Cleaning the Data\n",
    "- I'm going to start with just the escelators data, and ignore the elevators data for now, and if I have time I will do both"
   ]
  },
  {
   "cell_type": "markdown",
   "metadata": {},
   "source": [
    "I want to break down the full date column into a year, month and day column, and rename the day column to a full_date column"
   ]
  },
  {
   "cell_type": "code",
   "execution_count": 42,
   "metadata": {},
   "outputs": [],
   "source": [
    "escalators = escalators.rename(columns = {'day' : 'full_date'})"
   ]
  },
  {
   "cell_type": "code",
   "execution_count": 43,
   "metadata": {},
   "outputs": [],
   "source": [
    "from datetime import datetime\n",
    "\n",
    "# changes 'time_stamp' to datetime\n",
    "escalators['full_date']= pd.to_datetime(escalators['full_date']) "
   ]
  },
  {
   "cell_type": "code",
   "execution_count": 44,
   "metadata": {},
   "outputs": [
    {
     "data": {
      "text/plain": [
       "escalators_availability                     float64\n",
       "escalators_num_fixes                          int64\n",
       "escalators_num_inspections                    int64\n",
       "escalators_num_units                          int64\n",
       "escalators_num_breaks                         int64\n",
       "full_date                            datetime64[ns]\n",
       "escalators_broken_time_percentage           float64\n",
       "dtype: object"
      ]
     },
     "execution_count": 44,
     "metadata": {},
     "output_type": "execute_result"
    }
   ],
   "source": [
    "escalators.dtypes"
   ]
  },
  {
   "cell_type": "code",
   "execution_count": 45,
   "metadata": {},
   "outputs": [],
   "source": [
    "# creating new columns \n",
    "escalators['year'] = ''\n",
    "escalators['month'] = ''\n",
    "escalators['day'] = ''\n",
    "escalators['season'] = ''\n",
    "\n",
    "escalators['weekday'] = ''  # this will be what day it is (Mon-Sun)\n",
    "escalators['season'] = ''   # this will be what season (winter = 1, spring = 2, summer = 3, fall = 4)\n",
    "escalators['workday'] = ''  # if it's a workday or not (0 = not a workday, 1 = a workday)"
   ]
  },
  {
   "cell_type": "code",
   "execution_count": 46,
   "metadata": {},
   "outputs": [],
   "source": [
    "# fills in 'weekday' based on 'time_stamp' \n",
    "escalators.weekday = escalators.full_date.dt.dayofweek\n",
    "\n",
    "# fill in 'year' column based on 'time_stamp'\n",
    "escalators.year = escalators.full_date.dt.year\n",
    "\n",
    "# fill in 'month' column based on 'time_stamp'\n",
    "escalators.month = escalators.full_date.dt.month\n",
    "\n",
    "# fill in 'season' column based on 'time_stamp'\n",
    "escalators.season = escalators.full_date.dt.quarter\n",
    "\n",
    "# fill in 'day' column based on 'time_stamp'\n",
    "escalators.day = escalators.full_date.dt.day"
   ]
  },
  {
   "cell_type": "code",
   "execution_count": 47,
   "metadata": {},
   "outputs": [
    {
     "data": {
      "text/html": [
       "<div>\n",
       "<style scoped>\n",
       "    .dataframe tbody tr th:only-of-type {\n",
       "        vertical-align: middle;\n",
       "    }\n",
       "\n",
       "    .dataframe tbody tr th {\n",
       "        vertical-align: top;\n",
       "    }\n",
       "\n",
       "    .dataframe thead th {\n",
       "        text-align: right;\n",
       "    }\n",
       "</style>\n",
       "<table border=\"1\" class=\"dataframe\">\n",
       "  <thead>\n",
       "    <tr style=\"text-align: right;\">\n",
       "      <th></th>\n",
       "      <th>escalators_availability</th>\n",
       "      <th>escalators_num_fixes</th>\n",
       "      <th>escalators_num_inspections</th>\n",
       "      <th>escalators_num_units</th>\n",
       "      <th>escalators_num_breaks</th>\n",
       "      <th>full_date</th>\n",
       "      <th>escalators_broken_time_percentage</th>\n",
       "      <th>year</th>\n",
       "      <th>month</th>\n",
       "      <th>day</th>\n",
       "      <th>season</th>\n",
       "      <th>weekday</th>\n",
       "      <th>workday</th>\n",
       "    </tr>\n",
       "  </thead>\n",
       "  <tbody>\n",
       "    <tr>\n",
       "      <th>0</th>\n",
       "      <td>0.934766</td>\n",
       "      <td>32</td>\n",
       "      <td>1</td>\n",
       "      <td>588</td>\n",
       "      <td>59</td>\n",
       "      <td>2013-06-01</td>\n",
       "      <td>0.036173</td>\n",
       "      <td>2013</td>\n",
       "      <td>6</td>\n",
       "      <td>1</td>\n",
       "      <td>2</td>\n",
       "      <td>5</td>\n",
       "      <td></td>\n",
       "    </tr>\n",
       "    <tr>\n",
       "      <th>1</th>\n",
       "      <td>0.920018</td>\n",
       "      <td>73</td>\n",
       "      <td>35</td>\n",
       "      <td>588</td>\n",
       "      <td>61</td>\n",
       "      <td>2013-06-02</td>\n",
       "      <td>0.049931</td>\n",
       "      <td>2013</td>\n",
       "      <td>6</td>\n",
       "      <td>2</td>\n",
       "      <td>2</td>\n",
       "      <td>6</td>\n",
       "      <td></td>\n",
       "    </tr>\n",
       "    <tr>\n",
       "      <th>2</th>\n",
       "      <td>0.935932</td>\n",
       "      <td>71</td>\n",
       "      <td>46</td>\n",
       "      <td>588</td>\n",
       "      <td>71</td>\n",
       "      <td>2013-06-03</td>\n",
       "      <td>0.032025</td>\n",
       "      <td>2013</td>\n",
       "      <td>6</td>\n",
       "      <td>3</td>\n",
       "      <td>2</td>\n",
       "      <td>0</td>\n",
       "      <td></td>\n",
       "    </tr>\n",
       "    <tr>\n",
       "      <th>3</th>\n",
       "      <td>0.935348</td>\n",
       "      <td>59</td>\n",
       "      <td>63</td>\n",
       "      <td>588</td>\n",
       "      <td>58</td>\n",
       "      <td>2013-06-04</td>\n",
       "      <td>0.027606</td>\n",
       "      <td>2013</td>\n",
       "      <td>6</td>\n",
       "      <td>4</td>\n",
       "      <td>2</td>\n",
       "      <td>1</td>\n",
       "      <td></td>\n",
       "    </tr>\n",
       "    <tr>\n",
       "      <th>4</th>\n",
       "      <td>0.936133</td>\n",
       "      <td>62</td>\n",
       "      <td>42</td>\n",
       "      <td>588</td>\n",
       "      <td>66</td>\n",
       "      <td>2013-06-05</td>\n",
       "      <td>0.031049</td>\n",
       "      <td>2013</td>\n",
       "      <td>6</td>\n",
       "      <td>5</td>\n",
       "      <td>2</td>\n",
       "      <td>2</td>\n",
       "      <td></td>\n",
       "    </tr>\n",
       "  </tbody>\n",
       "</table>\n",
       "</div>"
      ],
      "text/plain": [
       "   escalators_availability  escalators_num_fixes  escalators_num_inspections  \\\n",
       "0                 0.934766                    32                           1   \n",
       "1                 0.920018                    73                          35   \n",
       "2                 0.935932                    71                          46   \n",
       "3                 0.935348                    59                          63   \n",
       "4                 0.936133                    62                          42   \n",
       "\n",
       "   escalators_num_units  escalators_num_breaks  full_date  \\\n",
       "0                   588                     59 2013-06-01   \n",
       "1                   588                     61 2013-06-02   \n",
       "2                   588                     71 2013-06-03   \n",
       "3                   588                     58 2013-06-04   \n",
       "4                   588                     66 2013-06-05   \n",
       "\n",
       "   escalators_broken_time_percentage  year  month  day  season  weekday  \\\n",
       "0                           0.036173  2013      6    1       2        5   \n",
       "1                           0.049931  2013      6    2       2        6   \n",
       "2                           0.032025  2013      6    3       2        0   \n",
       "3                           0.027606  2013      6    4       2        1   \n",
       "4                           0.031049  2013      6    5       2        2   \n",
       "\n",
       "  workday  \n",
       "0          \n",
       "1          \n",
       "2          \n",
       "3          \n",
       "4          "
      ]
     },
     "execution_count": 47,
     "metadata": {},
     "output_type": "execute_result"
    }
   ],
   "source": [
    "escalators.head()"
   ]
  },
  {
   "cell_type": "code",
   "execution_count": 57,
   "metadata": {},
   "outputs": [
    {
     "data": {
      "text/plain": [
       "2856"
      ]
     },
     "execution_count": 57,
     "metadata": {},
     "output_type": "execute_result"
    }
   ],
   "source": [
    "escalators.escalators_num_fixes.max()"
   ]
  },
  {
   "cell_type": "code",
   "execution_count": 63,
   "metadata": {},
   "outputs": [
    {
     "name": "stderr",
     "output_type": "stream",
     "text": [
      "C:\\Users\\606569\\AppData\\Local\\Continuum\\anaconda3\\lib\\site-packages\\ipykernel_launcher.py:1: FutureWarning: \n",
      "Passing list-likes to .loc or [] with any missing label will raise\n",
      "KeyError in the future, you can use .reindex() as an alternative.\n",
      "\n",
      "See the documentation here:\n",
      "https://pandas.pydata.org/pandas-docs/stable/indexing.html#deprecate-loc-reindex-listlike\n",
      "  \"\"\"Entry point for launching an IPython kernel.\n"
     ]
    },
    {
     "data": {
      "text/plain": [
       "escalators_availability                         0.934766\n",
       "escalators_num_fixes                                  32\n",
       "escalators_num_inspections                             1\n",
       "escalators_num_units                                 588\n",
       "escalators_num_breaks                                 59\n",
       "full_date                            2013-06-01 00:00:00\n",
       "escalators_broken_time_percentage              0.0361732\n",
       "year                                                2013\n",
       "month                                                  6\n",
       "day                                                    1\n",
       "season                                                 2\n",
       "weekday                                                5\n",
       "dtype: object"
      ]
     },
     "execution_count": 63,
     "metadata": {},
     "output_type": "execute_result"
    }
   ],
   "source": [
    "escalators.loc[escalators['escalators_broken_time_percentage']].max()"
   ]
  },
  {
   "cell_type": "code",
   "execution_count": 59,
   "metadata": {},
   "outputs": [
    {
     "name": "stderr",
     "output_type": "stream",
     "text": [
      "C:\\Users\\606569\\AppData\\Local\\Continuum\\anaconda3\\lib\\site-packages\\ipykernel_launcher.py:1: FutureWarning: \n",
      "Passing list-likes to .loc or [] with any missing label will raise\n",
      "KeyError in the future, you can use .reindex() as an alternative.\n",
      "\n",
      "See the documentation here:\n",
      "https://pandas.pydata.org/pandas-docs/stable/indexing.html#deprecate-loc-reindex-listlike\n",
      "  \"\"\"Entry point for launching an IPython kernel.\n"
     ]
    },
    {
     "data": {
      "text/plain": [
       "escalators_availability                         0.962585\n",
       "escalators_num_fixes                                 115\n",
       "escalators_num_inspections                           129\n",
       "escalators_num_units                                 616\n",
       "escalators_num_breaks                                110\n",
       "full_date                            2018-01-22 00:00:00\n",
       "escalators_broken_time_percentage              0.0572754\n",
       "year                                                2018\n",
       "month                                                 12\n",
       "day                                                   31\n",
       "season                                                 4\n",
       "weekday                                                6\n",
       "dtype: object"
      ]
     },
     "execution_count": 59,
     "metadata": {},
     "output_type": "execute_result"
    }
   ],
   "source": [
    "escalators.loc[escalators['escalators_num_fixes']].max()"
   ]
  },
  {
   "cell_type": "code",
   "execution_count": null,
   "metadata": {},
   "outputs": [],
   "source": []
  }
 ],
 "metadata": {
  "kernelspec": {
   "display_name": "Python 3",
   "language": "python",
   "name": "python3"
  },
  "language_info": {
   "codemirror_mode": {
    "name": "ipython",
    "version": 3
   },
   "file_extension": ".py",
   "mimetype": "text/x-python",
   "name": "python",
   "nbconvert_exporter": "python",
   "pygments_lexer": "ipython3",
   "version": "3.7.3"
  }
 },
 "nbformat": 4,
 "nbformat_minor": 4
}
