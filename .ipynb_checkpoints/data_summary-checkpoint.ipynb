{
 "cells": [
  {
   "cell_type": "markdown",
   "metadata": {},
   "source": [
    "# Data"
   ]
  },
  {
   "cell_type": "markdown",
   "metadata": {},
   "source": [
    "### Data information: https://github.com/LeeMendelowitz/DCMetroMetrics/blob/master/data/data_readme.md"
   ]
  },
  {
   "cell_type": "markdown",
   "metadata": {},
   "source": [
    "Data is regenerated once a day, so I will have to try to run this with new incoming data "
   ]
  },
  {
   "cell_type": "code",
   "execution_count": 1,
   "metadata": {},
   "outputs": [],
   "source": [
    "### The following is copy and pasted from the above link"
   ]
  },
  {
   "cell_type": "markdown",
   "metadata": {},
   "source": [
    "## stations.csv\n",
    "\n",
    "Each station is a row. Some stations have two station codes\n",
    "if they have two platforms serving different lines (Fort Totten,\n",
    "Gallery Place, L'Enfant, Metro Center).\n",
    "\n",
    "- *code*: The WMATA station code.\n",
    "- *long_name*: The full name of the station\n",
    "- *short_name*: A shortened name of the station, good for URL routing.\n",
    "- *line_code1-3*: The color code of the metro lines serving the station platform.\n",
    "- *other_station_code*: The station code of the other platform for a separate line at the same station. This applies to Fort Totten, Gallery Place, L'Enfant Plaza, and Metro Center.\n"
   ]
  },
  {
   "cell_type": "markdown",
   "metadata": {},
   "source": [
    "## units.csv\n",
    "\n",
    "A directory of all escalators and elevators.\n",
    "\n",
    "- *unit_id*: The id of the unit. (e.g. \"A03S02ESCALATOR)\n",
    "- *station_code*: The station code of the unit (e.g. \"A03\")\n",
    "- *station_name*: The station name as provided by the WMATA API. This may have spelling mistakes or be different than the official station name. Join with stations.csv for a more consistent station name. (e.g. \"DUPONT CIRCLE\")\n",
    "- *station_desc*: Station level description for the unit. Used if a station has multiple entrances, but NA for most units. (e.g \"South/DuPont Circle Entrance\")\n",
    "- *esc_desc*: Unit level description. (e.g \"Escalator between street and mezzanine\")\n",
    "- *unit_type*: ESCALATOR or ELEVATOR\n"
   ]
  },
  {
   "cell_type": "markdown",
   "metadata": {},
   "source": [
    "## unit_statuses.csv\n",
    "\n",
    "A list of all stored unit statuses. A unit status is an escalator/elevator state with a start time and and end time. A unit only has one unit status at any given time. \n",
    "\n",
    "Note that data may be stale for stretches of time due to stale data provided by the WMATA API or outages in data collection in the DC Metro Metrics application. Escalator & Elevator statuses are constantly changing, so if you see no statuses for 3 or more consecutive hours, the data is likely stale during that stretch of time. There is over a 7 day outage in July 2014 when WMATA made unannounced backwards incompatible changes to the WMATA API which broke the DC Metro Metrics app.\n",
    "\n",
    "When an escalator or elevator appears in the WMATA API list of outages for the first time, it is given an initial OPERATIONAL status, followed by the outage status.\n",
    "\n",
    " - *unit_id*: The unit_id of the escalator or elevator\n",
    " - *time*: The start time of the status in UTC.\n",
    " - *end_time*: The end time of the status in UTC. If NA, the status is still active.\n",
    " - *metro_open_time*: The number of seconds for which Metrorail was open during the duration of the status.\n",
    " - *update_type*: The type of the update. Should be one of: \"Break\", \"Fix\", \"Off\", \"On\", \"Update\". These categorize the type of state changes:\n",
    "\n",
    "   - Break: the unit has transitioned to a broken state from a non-broken state. (e.g. Operational -> Service Call)\n",
    "   - Fix means the unit has transitioned to an operational status from a broken status. (e.g. Major Report -> Operational)\n",
    "   - Off means the unit has been turned off, but is not broken. (e.g. Operational -> Walker or Operational -> Preventive Maintenance Inspection)\n",
    "   - On means the unit has been turned back on, but was not broken. (e.g. Preventive Maintenance Inspection -> Operational)\n",
    "   - Update means the unit is still broken or off but has changed states. (e.g. Service Call -> Minor Repair)\n",
    "\n",
    " - *symptom_description*: The description of the unit state. WMATA changed the descriptions in July 2014, so there is some duplication here (\"MAJOR REPAIR\" and \"Major Repair\", \"CALLBACK/REPAIR\" -> \"Service Call\"). I can't make a one to one correspondence between the old symptom descriptions and the new symptom descriptions, so I didn't bother cleaning this up.\n",
    "\n",
    " - *symptom_category*: The type of the symptom description. Is one of: \"ON\", \"BROKEN\", \"OFF\", \"REHAB\", \"INSPECTION\"\n"
   ]
  },
  {
   "cell_type": "markdown",
   "metadata": {},
   "source": [
    "\n",
    "## daily_unit_reports.csv\n",
    "\n",
    "Daily summary of the performance of a single escalator or elevator.\n",
    "\n",
    "For accounting purposes, a \"Metro Day\" is considered to be the time between system openings. For example, the Metro Day corresponding to Sunday 2/22/2015 is 2/22/2015 7 AM EST (system opening Sunday) to 2/23/2015 5 AM EST (system opening Monday). Some outages are not discovered by Metro employees until the next calendar day (after system close). This accounting attempts to correct for that. Just a heads up.\n",
    "\n",
    " - *day*: The \"Metro day\" (see above)\n",
    " - *unit_id*: The unit id of the summary. \n",
    " - *num_fixes*: Number of *new* fixes for this unit on this day.\n",
    " - *num_inspections*: Number of *new* inspections for the unit on this day.\n",
    " - *num_breaks*: Number of *new* breaks of the unit on this day. \n",
    " - *availability*: The percentage of the time that Metro was open for which the unit was operating.\n",
    " - *broken_time_percentage*: The percentage of the time that Metro was open on this day for which the unit was broken (statuses with symptom_category == \"BROKEN\")."
   ]
  },
  {
   "cell_type": "markdown",
   "metadata": {},
   "source": [
    "## daily_system_reports.csv\n",
    "\n",
    "The averages of all daily_unit_reports.csv for a given day, to provide a system wide snapshot.\n",
    "\n",
    " - *day*\n",
    " - *elevators_num_fixes*\n",
    " - *escalators_availability*\n",
    " - *escalators_num_fixes*\n",
    " - *elevators_num_inspections*\n",
    " - *elevators_num_breaks*\n",
    " - *escalators_num_inspections*\n",
    " - *elevators_num_units*: Number of elevators included in the daily system report.\n",
    " - *escalators_num_units*: Number of escalators included in the daily system report.\n",
    " - *escalators_num_breaks*\n",
    " - *elevators_broken_time_percentage*\n",
    " - *elevators_availability*\n",
    " - *escalators_broken_time_percentage*"
   ]
  },
  {
   "cell_type": "markdown",
   "metadata": {},
   "source": [
    " ## hotcars.csv\n",
    "\n",
    " HotCar report data. Each hot car report is from a tweet mentioning a single valid 4 digit Metro car number.\n",
    "\n",
    " - *car_number*: Metro car number\n",
    " - *color*: Line color\n",
    " - *time*: Tweet time (UTC)\n",
    " - *text*: Tweet text\n",
    " - *handle*: Twitter user's screen name\n",
    " - *user_id*: Twitter user's user_id\n",
    " - *tweet_id*\n",
    "\n"
   ]
  },
  {
   "cell_type": "code",
   "execution_count": null,
   "metadata": {},
   "outputs": [],
   "source": []
  }
 ],
 "metadata": {
  "kernelspec": {
   "display_name": "Python 3",
   "language": "python",
   "name": "python3"
  },
  "language_info": {
   "codemirror_mode": {
    "name": "ipython",
    "version": 3
   },
   "file_extension": ".py",
   "mimetype": "text/x-python",
   "name": "python",
   "nbconvert_exporter": "python",
   "pygments_lexer": "ipython3",
   "version": "3.7.3"
  }
 },
 "nbformat": 4,
 "nbformat_minor": 4
}
