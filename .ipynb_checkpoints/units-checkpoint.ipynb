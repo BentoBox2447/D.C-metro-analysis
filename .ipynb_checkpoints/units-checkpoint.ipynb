{
 "cells": [
  {
   "cell_type": "code",
   "execution_count": null,
   "metadata": {},
   "outputs": [],
   "source": []
  },
  {
   "cell_type": "code",
   "execution_count": 1,
   "metadata": {},
   "outputs": [],
   "source": [
    "import pandas as pd"
   ]
  },
  {
   "cell_type": "code",
   "execution_count": 2,
   "metadata": {},
   "outputs": [],
   "source": [
    "data = pd.read_csv('data/units.csv')"
   ]
  },
  {
   "cell_type": "code",
   "execution_count": 3,
   "metadata": {},
   "outputs": [
    {
     "data": {
      "text/html": [
       "<div>\n",
       "<style scoped>\n",
       "    .dataframe tbody tr th:only-of-type {\n",
       "        vertical-align: middle;\n",
       "    }\n",
       "\n",
       "    .dataframe tbody tr th {\n",
       "        vertical-align: top;\n",
       "    }\n",
       "\n",
       "    .dataframe thead th {\n",
       "        text-align: right;\n",
       "    }\n",
       "</style>\n",
       "<table border=\"1\" class=\"dataframe\">\n",
       "  <thead>\n",
       "    <tr style=\"text-align: right;\">\n",
       "      <th></th>\n",
       "      <th>unit_id</th>\n",
       "      <th>station_code</th>\n",
       "      <th>station_name</th>\n",
       "      <th>station_desc</th>\n",
       "      <th>esc_desc</th>\n",
       "      <th>unit_type</th>\n",
       "    </tr>\n",
       "  </thead>\n",
       "  <tbody>\n",
       "    <tr>\n",
       "      <th>0</th>\n",
       "      <td>K01X08ESCALATOR</td>\n",
       "      <td>K01</td>\n",
       "      <td>COURT HOUSE</td>\n",
       "      <td>NaN</td>\n",
       "      <td>Escalator between mezzanine and platform</td>\n",
       "      <td>ESCALATOR</td>\n",
       "    </tr>\n",
       "    <tr>\n",
       "      <th>1</th>\n",
       "      <td>C09X08ESCALATOR</td>\n",
       "      <td>C09</td>\n",
       "      <td>CRYSTAL CITY</td>\n",
       "      <td>NaN</td>\n",
       "      <td>Escalator between mezzanine and platform to Mt...</td>\n",
       "      <td>ESCALATOR</td>\n",
       "    </tr>\n",
       "    <tr>\n",
       "      <th>2</th>\n",
       "      <td>F05E02ELEVATOR</td>\n",
       "      <td>F05</td>\n",
       "      <td>NAVY YARD</td>\n",
       "      <td>Navy Yard Entrance</td>\n",
       "      <td>Elevator between mezzanine and platform</td>\n",
       "      <td>ELEVATOR</td>\n",
       "    </tr>\n",
       "    <tr>\n",
       "      <th>3</th>\n",
       "      <td>C05X09ESCALATOR</td>\n",
       "      <td>C05</td>\n",
       "      <td>ROSSLYN</td>\n",
       "      <td>NaN</td>\n",
       "      <td>Escalator between skywalk and mezzanine</td>\n",
       "      <td>ESCALATOR</td>\n",
       "    </tr>\n",
       "    <tr>\n",
       "      <th>4</th>\n",
       "      <td>C05X10ESCALATOR</td>\n",
       "      <td>C05</td>\n",
       "      <td>ROSSLYN</td>\n",
       "      <td>NaN</td>\n",
       "      <td>Escalator between skywalk and mezzanine</td>\n",
       "      <td>ESCALATOR</td>\n",
       "    </tr>\n",
       "  </tbody>\n",
       "</table>\n",
       "</div>"
      ],
      "text/plain": [
       "           unit_id station_code  station_name        station_desc  \\\n",
       "0  K01X08ESCALATOR          K01   COURT HOUSE                 NaN   \n",
       "1  C09X08ESCALATOR          C09  CRYSTAL CITY                 NaN   \n",
       "2   F05E02ELEVATOR          F05     NAVY YARD  Navy Yard Entrance   \n",
       "3  C05X09ESCALATOR          C05       ROSSLYN                 NaN   \n",
       "4  C05X10ESCALATOR          C05       ROSSLYN                 NaN   \n",
       "\n",
       "                                            esc_desc  unit_type  \n",
       "0           Escalator between mezzanine and platform  ESCALATOR  \n",
       "1  Escalator between mezzanine and platform to Mt...  ESCALATOR  \n",
       "2            Elevator between mezzanine and platform   ELEVATOR  \n",
       "3            Escalator between skywalk and mezzanine  ESCALATOR  \n",
       "4            Escalator between skywalk and mezzanine  ESCALATOR  "
      ]
     },
     "execution_count": 3,
     "metadata": {},
     "output_type": "execute_result"
    }
   ],
   "source": [
    "data.head()"
   ]
  },
  {
   "cell_type": "markdown",
   "metadata": {},
   "source": [
    "# What I want to do\n",
    "- This data looks pretty clean, not much to do other than EDA. \n",
    "- I was originally going to split up 'unit_id' column to seperate by 'unit_type', but that's already been done"
   ]
  },
  {
   "cell_type": "code",
   "execution_count": null,
   "metadata": {},
   "outputs": [],
   "source": []
  }
 ],
 "metadata": {
  "kernelspec": {
   "display_name": "Python 3",
   "language": "python",
   "name": "python3"
  },
  "language_info": {
   "codemirror_mode": {
    "name": "ipython",
    "version": 3
   },
   "file_extension": ".py",
   "mimetype": "text/x-python",
   "name": "python",
   "nbconvert_exporter": "python",
   "pygments_lexer": "ipython3",
   "version": "3.7.3"
  }
 },
 "nbformat": 4,
 "nbformat_minor": 4
}
