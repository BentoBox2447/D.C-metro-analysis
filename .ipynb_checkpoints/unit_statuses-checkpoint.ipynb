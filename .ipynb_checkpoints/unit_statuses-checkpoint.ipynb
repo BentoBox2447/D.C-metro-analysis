{
 "cells": [
  {
   "cell_type": "markdown",
   "metadata": {},
   "source": [
    "## unit_statuses.csv\n",
    "\n",
    "A list of all stored unit statuses. A unit status is an escalator/elevator state with a start time and and end time. A unit only has one unit status at any given time. \n",
    "\n",
    "Note that data may be stale for stretches of time due to stale data provided by the WMATA API or outages in data collection in the DC Metro Metrics application. Escalator & Elevator statuses are constantly changing, so if you see no statuses for 3 or more consecutive hours, the data is likely stale during that stretch of time. There is over a 7 day outage in July 2014 when WMATA made unannounced backwards incompatible changes to the WMATA API which broke the DC Metro Metrics app.\n",
    "\n",
    "When an escalator or elevator appears in the WMATA API list of outages for the first time, it is given an initial OPERATIONAL status, followed by the outage status.\n",
    "\n",
    " - *unit_id*: The unit_id of the escalator or elevator\n",
    " - *time*: The start time of the status in UTC.\n",
    " - *end_time*: The end time of the status in UTC. If NA, the status is still active.\n",
    " - *metro_open_time*: The number of seconds for which Metrorail was open during the duration of the status.\n",
    " - *update_type*: The type of the update. Should be one of: \"Break\", \"Fix\", \"Off\", \"On\", \"Update\". These categorize the type of state changes:\n",
    "\n",
    "   - Break: the unit has transitioned to a broken state from a non-broken state. (e.g. Operational -> Service Call)\n",
    "   - Fix means the unit has transitioned to an operational status from a broken status. (e.g. Major Report -> Operational)\n",
    "   - Off means the unit has been turned off, but is not broken. (e.g. Operational -> Walker or Operational -> Preventive Maintenance Inspection)\n",
    "   - On means the unit has been turned back on, but was not broken. (e.g. Preventive Maintenance Inspection -> Operational)\n",
    "   - Update means the unit is still broken or off but has changed states. (e.g. Service Call -> Minor Repair)\n",
    "\n",
    " - *symptom_description*: The description of the unit state. WMATA changed the descriptions in July 2014, so there is some duplication here (\"MAJOR REPAIR\" and \"Major Repair\", \"CALLBACK/REPAIR\" -> \"Service Call\"). I can't make a one to one correspondence between the old symptom descriptions and the new symptom descriptions, so I didn't bother cleaning this up.\n",
    "\n",
    " - *symptom_category*: The type of the symptom description. Is one of: \"ON\", \"BROKEN\", \"OFF\", \"REHAB\", \"INSPECTION\"\n"
   ]
  },
  {
   "cell_type": "code",
   "execution_count": 2,
   "metadata": {},
   "outputs": [],
   "source": [
    "import pandas as pd"
   ]
  },
  {
   "cell_type": "code",
   "execution_count": 3,
   "metadata": {},
   "outputs": [],
   "source": [
    "data = pd.read_csv('data/unit_statuses.csv')"
   ]
  },
  {
   "cell_type": "code",
   "execution_count": 4,
   "metadata": {},
   "outputs": [
    {
     "data": {
      "text/html": [
       "<div>\n",
       "<style scoped>\n",
       "    .dataframe tbody tr th:only-of-type {\n",
       "        vertical-align: middle;\n",
       "    }\n",
       "\n",
       "    .dataframe tbody tr th {\n",
       "        vertical-align: top;\n",
       "    }\n",
       "\n",
       "    .dataframe thead th {\n",
       "        text-align: right;\n",
       "    }\n",
       "</style>\n",
       "<table border=\"1\" class=\"dataframe\">\n",
       "  <thead>\n",
       "    <tr style=\"text-align: right;\">\n",
       "      <th></th>\n",
       "      <th>unit_id</th>\n",
       "      <th>time</th>\n",
       "      <th>end_time</th>\n",
       "      <th>metro_open_time</th>\n",
       "      <th>update_type</th>\n",
       "      <th>symptom_description</th>\n",
       "      <th>symptom_category</th>\n",
       "    </tr>\n",
       "  </thead>\n",
       "  <tbody>\n",
       "    <tr>\n",
       "      <th>0</th>\n",
       "      <td>F06N02ESCALATOR</td>\n",
       "      <td>2013-06-01T16:38:21.475000+00:00</td>\n",
       "      <td>2013-06-01T16:38:21.476000+00:00</td>\n",
       "      <td>0.001</td>\n",
       "      <td>Update</td>\n",
       "      <td>OPERATIONAL</td>\n",
       "      <td>ON</td>\n",
       "    </tr>\n",
       "    <tr>\n",
       "      <th>1</th>\n",
       "      <td>C06X04ESCALATOR</td>\n",
       "      <td>2013-06-01T16:38:21.475000+00:00</td>\n",
       "      <td>2013-06-01T16:38:21.476000+00:00</td>\n",
       "      <td>0.001</td>\n",
       "      <td>Update</td>\n",
       "      <td>OPERATIONAL</td>\n",
       "      <td>ON</td>\n",
       "    </tr>\n",
       "    <tr>\n",
       "      <th>2</th>\n",
       "      <td>B05X01ESCALATOR</td>\n",
       "      <td>2013-06-01T16:38:21.475000+00:00</td>\n",
       "      <td>2013-06-01T16:38:21.476000+00:00</td>\n",
       "      <td>0.001</td>\n",
       "      <td>Update</td>\n",
       "      <td>OPERATIONAL</td>\n",
       "      <td>ON</td>\n",
       "    </tr>\n",
       "    <tr>\n",
       "      <th>3</th>\n",
       "      <td>K02X02ESCALATOR</td>\n",
       "      <td>2013-06-01T16:38:21.475000+00:00</td>\n",
       "      <td>2013-06-01T16:38:21.476000+00:00</td>\n",
       "      <td>0.001</td>\n",
       "      <td>Update</td>\n",
       "      <td>OPERATIONAL</td>\n",
       "      <td>ON</td>\n",
       "    </tr>\n",
       "    <tr>\n",
       "      <th>4</th>\n",
       "      <td>A03N01ESCALATOR</td>\n",
       "      <td>2013-06-01T16:38:21.475000+00:00</td>\n",
       "      <td>2013-06-01T16:38:21.476000+00:00</td>\n",
       "      <td>0.001</td>\n",
       "      <td>Update</td>\n",
       "      <td>OPERATIONAL</td>\n",
       "      <td>ON</td>\n",
       "    </tr>\n",
       "  </tbody>\n",
       "</table>\n",
       "</div>"
      ],
      "text/plain": [
       "           unit_id                              time  \\\n",
       "0  F06N02ESCALATOR  2013-06-01T16:38:21.475000+00:00   \n",
       "1  C06X04ESCALATOR  2013-06-01T16:38:21.475000+00:00   \n",
       "2  B05X01ESCALATOR  2013-06-01T16:38:21.475000+00:00   \n",
       "3  K02X02ESCALATOR  2013-06-01T16:38:21.475000+00:00   \n",
       "4  A03N01ESCALATOR  2013-06-01T16:38:21.475000+00:00   \n",
       "\n",
       "                           end_time  metro_open_time update_type  \\\n",
       "0  2013-06-01T16:38:21.476000+00:00            0.001      Update   \n",
       "1  2013-06-01T16:38:21.476000+00:00            0.001      Update   \n",
       "2  2013-06-01T16:38:21.476000+00:00            0.001      Update   \n",
       "3  2013-06-01T16:38:21.476000+00:00            0.001      Update   \n",
       "4  2013-06-01T16:38:21.476000+00:00            0.001      Update   \n",
       "\n",
       "  symptom_description symptom_category  \n",
       "0         OPERATIONAL               ON  \n",
       "1         OPERATIONAL               ON  \n",
       "2         OPERATIONAL               ON  \n",
       "3         OPERATIONAL               ON  \n",
       "4         OPERATIONAL               ON  "
      ]
     },
     "execution_count": 4,
     "metadata": {},
     "output_type": "execute_result"
    }
   ],
   "source": [
    "data.head()"
   ]
  },
  {
   "cell_type": "markdown",
   "metadata": {},
   "source": [
    "# What I want to do\n",
    "- split up the unit_id \n",
    "    - make a new column called 'unit' and have it be labeled either escalator or elevator\n",
    "- break up time stamps  \n",
    "    - 'full_date', 'year', 'month', 'day',"
   ]
  },
  {
   "cell_type": "code",
   "execution_count": null,
   "metadata": {},
   "outputs": [],
   "source": []
  }
 ],
 "metadata": {
  "kernelspec": {
   "display_name": "Python 3",
   "language": "python",
   "name": "python3"
  },
  "language_info": {
   "codemirror_mode": {
    "name": "ipython",
    "version": 3
   },
   "file_extension": ".py",
   "mimetype": "text/x-python",
   "name": "python",
   "nbconvert_exporter": "python",
   "pygments_lexer": "ipython3",
   "version": "3.7.3"
  }
 },
 "nbformat": 4,
 "nbformat_minor": 4
}
