{
 "cells": [
  {
   "cell_type": "markdown",
   "metadata": {},
   "source": [
    "# Data: hotcars.csv"
   ]
  },
  {
   "cell_type": "markdown",
   "metadata": {},
   "source": [
    " ## hotcars.csv\n",
    "\n",
    " HotCar report data. Each hot car report is from a tweet mentioning a single valid 4 digit Metro car number.\n",
    "\n",
    " - *car_number*: Metro car number\n",
    " - *color*: Line color\n",
    " - *time*: Tweet time (UTC)\n",
    " - *text*: Tweet text\n",
    " - *handle*: Twitter user's screen name\n",
    " - *user_id*: Twitter user's user_id\n",
    " - *tweet_id*\n",
    "\n"
   ]
  },
  {
   "cell_type": "code",
   "execution_count": 3,
   "metadata": {},
   "outputs": [],
   "source": [
    "import pandas as pd"
   ]
  },
  {
   "cell_type": "code",
   "execution_count": 7,
   "metadata": {},
   "outputs": [],
   "source": [
    "data = pd.read_csv('data/hotcars.csv')"
   ]
  },
  {
   "cell_type": "code",
   "execution_count": 8,
   "metadata": {},
   "outputs": [
    {
     "data": {
      "text/html": [
       "<div>\n",
       "<style scoped>\n",
       "    .dataframe tbody tr th:only-of-type {\n",
       "        vertical-align: middle;\n",
       "    }\n",
       "\n",
       "    .dataframe tbody tr th {\n",
       "        vertical-align: top;\n",
       "    }\n",
       "\n",
       "    .dataframe thead th {\n",
       "        text-align: right;\n",
       "    }\n",
       "</style>\n",
       "<table border=\"1\" class=\"dataframe\">\n",
       "  <thead>\n",
       "    <tr style=\"text-align: right;\">\n",
       "      <th></th>\n",
       "      <th>car_number</th>\n",
       "      <th>color</th>\n",
       "      <th>time</th>\n",
       "      <th>text</th>\n",
       "      <th>handle</th>\n",
       "      <th>user_id</th>\n",
       "      <th>tweet_id</th>\n",
       "    </tr>\n",
       "  </thead>\n",
       "  <tbody>\n",
       "    <tr>\n",
       "      <th>0</th>\n",
       "      <td>1001</td>\n",
       "      <td>RED</td>\n",
       "      <td>2013-05-28T12:39:54+00:00</td>\n",
       "      <td>Was just on metro hot car #1001 (red line), an...</td>\n",
       "      <td>CarChickMWB</td>\n",
       "      <td>18249348</td>\n",
       "      <td>339360382302949376</td>\n",
       "    </tr>\n",
       "    <tr>\n",
       "      <th>1</th>\n",
       "      <td>1188</td>\n",
       "      <td>RED</td>\n",
       "      <td>2013-05-28T12:50:53+00:00</td>\n",
       "      <td>@FixWMATA @unsuckdcmetro @wmata RL #HotCar 118...</td>\n",
       "      <td>DiavoJinx</td>\n",
       "      <td>403520304</td>\n",
       "      <td>339363145795653632</td>\n",
       "    </tr>\n",
       "    <tr>\n",
       "      <th>2</th>\n",
       "      <td>1068</td>\n",
       "      <td>GREEN</td>\n",
       "      <td>2013-05-28T21:06:20+00:00</td>\n",
       "      <td>oh good, another hot car on the metro. green l...</td>\n",
       "      <td>lexilooo</td>\n",
       "      <td>16174883</td>\n",
       "      <td>339487827479908353</td>\n",
       "    </tr>\n",
       "    <tr>\n",
       "      <th>3</th>\n",
       "      <td>2066</td>\n",
       "      <td>ORANGE</td>\n",
       "      <td>2013-05-28T21:15:23+00:00</td>\n",
       "      <td>#HotCar 2066 on OL to New Carrollton.  Air is ...</td>\n",
       "      <td>TheHornGuy</td>\n",
       "      <td>40506740</td>\n",
       "      <td>339490107864276992</td>\n",
       "    </tr>\n",
       "    <tr>\n",
       "      <th>4</th>\n",
       "      <td>1043</td>\n",
       "      <td>BLUE</td>\n",
       "      <td>2013-05-28T22:08:07+00:00</td>\n",
       "      <td>Car 1043 on the blue line heading to Largo is ...</td>\n",
       "      <td>jessydumpling</td>\n",
       "      <td>263763147</td>\n",
       "      <td>339503377618718720</td>\n",
       "    </tr>\n",
       "  </tbody>\n",
       "</table>\n",
       "</div>"
      ],
      "text/plain": [
       "   car_number   color                       time  \\\n",
       "0        1001     RED  2013-05-28T12:39:54+00:00   \n",
       "1        1188     RED  2013-05-28T12:50:53+00:00   \n",
       "2        1068   GREEN  2013-05-28T21:06:20+00:00   \n",
       "3        2066  ORANGE  2013-05-28T21:15:23+00:00   \n",
       "4        1043    BLUE  2013-05-28T22:08:07+00:00   \n",
       "\n",
       "                                                text         handle  \\\n",
       "0  Was just on metro hot car #1001 (red line), an...    CarChickMWB   \n",
       "1  @FixWMATA @unsuckdcmetro @wmata RL #HotCar 118...      DiavoJinx   \n",
       "2  oh good, another hot car on the metro. green l...       lexilooo   \n",
       "3  #HotCar 2066 on OL to New Carrollton.  Air is ...     TheHornGuy   \n",
       "4  Car 1043 on the blue line heading to Largo is ...  jessydumpling   \n",
       "\n",
       "     user_id            tweet_id  \n",
       "0   18249348  339360382302949376  \n",
       "1  403520304  339363145795653632  \n",
       "2   16174883  339487827479908353  \n",
       "3   40506740  339490107864276992  \n",
       "4  263763147  339503377618718720  "
      ]
     },
     "execution_count": 8,
     "metadata": {},
     "output_type": "execute_result"
    }
   ],
   "source": [
    "data.head()"
   ]
  },
  {
   "cell_type": "markdown",
   "metadata": {},
   "source": [
    "The first thing that sticks out is the 'time' column.  this is a timestamp and I want to break it down so I can do some better EDA\n",
    "I'll rename 'time' to 'time_stamp' and break it down to new columns 'year', 'month', 'day' and 'full_date'"
   ]
  },
  {
   "cell_type": "markdown",
   "metadata": {},
   "source": [
    "### Cleaning the Data\n",
    "- break down the time columns into new columns ('full_date', 'time', 'year', 'month', 'date')\n",
    "- rename time as time_stamp and leave it like that"
   ]
  },
  {
   "cell_type": "code",
   "execution_count": 9,
   "metadata": {},
   "outputs": [],
   "source": [
    "# renaming time into time_stamp\n",
    "data = data.rename(columns = {'time' : 'time_stamp'})"
   ]
  },
  {
   "cell_type": "code",
   "execution_count": 10,
   "metadata": {},
   "outputs": [],
   "source": [
    "# splitting up the time_stamp into a month day and year\n",
    "data['year'] = pd.DatetimeIndex(data['time_stamp']).year\n",
    "data['month'] = pd.DatetimeIndex(data['time_stamp']).month\n",
    "data['day'] = pd.DatetimeIndex(data['time_stamp']).day"
   ]
  },
  {
   "cell_type": "code",
   "execution_count": 11,
   "metadata": {},
   "outputs": [],
   "source": [
    "# making a new full date column out of the time stamp\n",
    "data['full_date']=[d.split('T')[0] for d in data.time_stamp]"
   ]
  },
  {
   "cell_type": "code",
   "execution_count": 12,
   "metadata": {},
   "outputs": [
    {
     "data": {
      "text/html": [
       "<div>\n",
       "<style scoped>\n",
       "    .dataframe tbody tr th:only-of-type {\n",
       "        vertical-align: middle;\n",
       "    }\n",
       "\n",
       "    .dataframe tbody tr th {\n",
       "        vertical-align: top;\n",
       "    }\n",
       "\n",
       "    .dataframe thead th {\n",
       "        text-align: right;\n",
       "    }\n",
       "</style>\n",
       "<table border=\"1\" class=\"dataframe\">\n",
       "  <thead>\n",
       "    <tr style=\"text-align: right;\">\n",
       "      <th></th>\n",
       "      <th>car_number</th>\n",
       "      <th>color</th>\n",
       "      <th>time_stamp</th>\n",
       "      <th>text</th>\n",
       "      <th>handle</th>\n",
       "      <th>user_id</th>\n",
       "      <th>tweet_id</th>\n",
       "      <th>year</th>\n",
       "      <th>month</th>\n",
       "      <th>day</th>\n",
       "      <th>full_date</th>\n",
       "    </tr>\n",
       "  </thead>\n",
       "  <tbody>\n",
       "    <tr>\n",
       "      <th>0</th>\n",
       "      <td>1001</td>\n",
       "      <td>RED</td>\n",
       "      <td>2013-05-28T12:39:54+00:00</td>\n",
       "      <td>Was just on metro hot car #1001 (red line), an...</td>\n",
       "      <td>CarChickMWB</td>\n",
       "      <td>18249348</td>\n",
       "      <td>339360382302949376</td>\n",
       "      <td>2013</td>\n",
       "      <td>5</td>\n",
       "      <td>28</td>\n",
       "      <td>2013-05-28</td>\n",
       "    </tr>\n",
       "    <tr>\n",
       "      <th>1</th>\n",
       "      <td>1188</td>\n",
       "      <td>RED</td>\n",
       "      <td>2013-05-28T12:50:53+00:00</td>\n",
       "      <td>@FixWMATA @unsuckdcmetro @wmata RL #HotCar 118...</td>\n",
       "      <td>DiavoJinx</td>\n",
       "      <td>403520304</td>\n",
       "      <td>339363145795653632</td>\n",
       "      <td>2013</td>\n",
       "      <td>5</td>\n",
       "      <td>28</td>\n",
       "      <td>2013-05-28</td>\n",
       "    </tr>\n",
       "    <tr>\n",
       "      <th>2</th>\n",
       "      <td>1068</td>\n",
       "      <td>GREEN</td>\n",
       "      <td>2013-05-28T21:06:20+00:00</td>\n",
       "      <td>oh good, another hot car on the metro. green l...</td>\n",
       "      <td>lexilooo</td>\n",
       "      <td>16174883</td>\n",
       "      <td>339487827479908353</td>\n",
       "      <td>2013</td>\n",
       "      <td>5</td>\n",
       "      <td>28</td>\n",
       "      <td>2013-05-28</td>\n",
       "    </tr>\n",
       "    <tr>\n",
       "      <th>3</th>\n",
       "      <td>2066</td>\n",
       "      <td>ORANGE</td>\n",
       "      <td>2013-05-28T21:15:23+00:00</td>\n",
       "      <td>#HotCar 2066 on OL to New Carrollton.  Air is ...</td>\n",
       "      <td>TheHornGuy</td>\n",
       "      <td>40506740</td>\n",
       "      <td>339490107864276992</td>\n",
       "      <td>2013</td>\n",
       "      <td>5</td>\n",
       "      <td>28</td>\n",
       "      <td>2013-05-28</td>\n",
       "    </tr>\n",
       "    <tr>\n",
       "      <th>4</th>\n",
       "      <td>1043</td>\n",
       "      <td>BLUE</td>\n",
       "      <td>2013-05-28T22:08:07+00:00</td>\n",
       "      <td>Car 1043 on the blue line heading to Largo is ...</td>\n",
       "      <td>jessydumpling</td>\n",
       "      <td>263763147</td>\n",
       "      <td>339503377618718720</td>\n",
       "      <td>2013</td>\n",
       "      <td>5</td>\n",
       "      <td>28</td>\n",
       "      <td>2013-05-28</td>\n",
       "    </tr>\n",
       "  </tbody>\n",
       "</table>\n",
       "</div>"
      ],
      "text/plain": [
       "   car_number   color                 time_stamp  \\\n",
       "0        1001     RED  2013-05-28T12:39:54+00:00   \n",
       "1        1188     RED  2013-05-28T12:50:53+00:00   \n",
       "2        1068   GREEN  2013-05-28T21:06:20+00:00   \n",
       "3        2066  ORANGE  2013-05-28T21:15:23+00:00   \n",
       "4        1043    BLUE  2013-05-28T22:08:07+00:00   \n",
       "\n",
       "                                                text         handle  \\\n",
       "0  Was just on metro hot car #1001 (red line), an...    CarChickMWB   \n",
       "1  @FixWMATA @unsuckdcmetro @wmata RL #HotCar 118...      DiavoJinx   \n",
       "2  oh good, another hot car on the metro. green l...       lexilooo   \n",
       "3  #HotCar 2066 on OL to New Carrollton.  Air is ...     TheHornGuy   \n",
       "4  Car 1043 on the blue line heading to Largo is ...  jessydumpling   \n",
       "\n",
       "     user_id            tweet_id  year  month  day   full_date  \n",
       "0   18249348  339360382302949376  2013      5   28  2013-05-28  \n",
       "1  403520304  339363145795653632  2013      5   28  2013-05-28  \n",
       "2   16174883  339487827479908353  2013      5   28  2013-05-28  \n",
       "3   40506740  339490107864276992  2013      5   28  2013-05-28  \n",
       "4  263763147  339503377618718720  2013      5   28  2013-05-28  "
      ]
     },
     "execution_count": 12,
     "metadata": {},
     "output_type": "execute_result"
    }
   ],
   "source": [
    "data.head()"
   ]
  },
  {
   "cell_type": "markdown",
   "metadata": {},
   "source": [
    "Now we can explore the data and the hot car tweets based on month and year"
   ]
  },
  {
   "cell_type": "code",
   "execution_count": 14,
   "metadata": {},
   "outputs": [
    {
     "data": {
      "text/plain": [
       "(6440, 11)"
      ]
     },
     "execution_count": 14,
     "metadata": {},
     "output_type": "execute_result"
    }
   ],
   "source": [
    "data.shape"
   ]
  },
  {
   "cell_type": "code",
   "execution_count": 18,
   "metadata": {},
   "outputs": [
    {
     "data": {
      "text/plain": [
       "6004    48\n",
       "3024    43\n",
       "1124    39\n",
       "1263    32\n",
       "5171    32\n",
       "6099    31\n",
       "3058    30\n",
       "1292    28\n",
       "6081    27\n",
       "5167    27\n",
       "Name: car_number, dtype: int64"
      ]
     },
     "execution_count": 18,
     "metadata": {},
     "output_type": "execute_result"
    }
   ],
   "source": [
    "data.car_number.value_counts().head(10)"
   ]
  },
  {
   "cell_type": "markdown",
   "metadata": {},
   "source": [
    "this gives us the top 10 cars that received the most complaints "
   ]
  },
  {
   "cell_type": "code",
   "execution_count": 19,
   "metadata": {},
   "outputs": [
    {
     "data": {
      "text/plain": [
       "RED       1705\n",
       "ORANGE    1053\n",
       "YELLOW     535\n",
       "BLUE       436\n",
       "NONE       400\n",
       "GREEN      356\n",
       "SILVER     309\n",
       "Name: color, dtype: int64"
      ]
     },
     "execution_count": 19,
     "metadata": {},
     "output_type": "execute_result"
    }
   ],
   "source": [
    "data.color.value_counts()"
   ]
  },
  {
   "cell_type": "markdown",
   "metadata": {},
   "source": [
    "The number of complaints per line.  \n",
    "Red line and Orange win by a landslide."
   ]
  },
  {
   "cell_type": "code",
   "execution_count": 20,
   "metadata": {},
   "outputs": [
    {
     "data": {
      "text/plain": [
       "EdChernosky        125\n",
       "LowHeadways        104\n",
       "UnleafTheKraken     49\n",
       "Tracktwentynine     39\n",
       "HakunaWMATA         38\n",
       "KathrynAegis        38\n",
       "rmwc1995            38\n",
       "goldsmitht          37\n",
       "pjroddyjr           35\n",
       "lissabrennan        34\n",
       "Name: handle, dtype: int64"
      ]
     },
     "execution_count": 20,
     "metadata": {},
     "output_type": "execute_result"
    }
   ],
   "source": [
    "data.handle.value_counts().head(10)"
   ]
  },
  {
   "cell_type": "markdown",
   "metadata": {},
   "source": [
    "The top 10 twitter users that tweet the most hotcar complaints. \n",
    "We can assume they are very usual metro riders..."
   ]
  },
  {
   "cell_type": "code",
   "execution_count": null,
   "metadata": {},
   "outputs": [],
   "source": []
  }
 ],
 "metadata": {
  "kernelspec": {
   "display_name": "Python 3",
   "language": "python",
   "name": "python3"
  },
  "language_info": {
   "codemirror_mode": {
    "name": "ipython",
    "version": 3
   },
   "file_extension": ".py",
   "mimetype": "text/x-python",
   "name": "python",
   "nbconvert_exporter": "python",
   "pygments_lexer": "ipython3",
   "version": "3.7.3"
  }
 },
 "nbformat": 4,
 "nbformat_minor": 4
}
