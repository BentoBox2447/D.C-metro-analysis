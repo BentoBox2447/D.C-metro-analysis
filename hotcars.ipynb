{
 "cells": [
  {
   "cell_type": "markdown",
   "metadata": {},
   "source": [
    "# Data: hotcars.csv"
   ]
  },
  {
   "cell_type": "markdown",
   "metadata": {},
   "source": [
    " HotCar reporting data. Each hot car report is from a tweet mentioning a single valid 4 digit Metro car number.\n",
    "\n",
    " - *car_number*: Metro car number\n",
    " - *color*: Line color\n",
    " - *time*: Tweet time (UTC)\n",
    " - *text*: Tweet text\n",
    " - *handle*: Twitter user's screen name\n",
    " - *user_id*: Twitter user's user_id\n",
    " - *tweet_id*\n",
    "\n"
   ]
  },
  {
   "cell_type": "code",
   "execution_count": 246,
   "metadata": {},
   "outputs": [],
   "source": [
    "import pandas as pd"
   ]
  },
  {
   "cell_type": "code",
   "execution_count": 247,
   "metadata": {},
   "outputs": [],
   "source": [
    "data = pd.read_csv('data/hotcars.csv')"
   ]
  },
  {
   "cell_type": "code",
   "execution_count": 248,
   "metadata": {},
   "outputs": [
    {
     "data": {
      "text/html": [
       "<div>\n",
       "<style scoped>\n",
       "    .dataframe tbody tr th:only-of-type {\n",
       "        vertical-align: middle;\n",
       "    }\n",
       "\n",
       "    .dataframe tbody tr th {\n",
       "        vertical-align: top;\n",
       "    }\n",
       "\n",
       "    .dataframe thead th {\n",
       "        text-align: right;\n",
       "    }\n",
       "</style>\n",
       "<table border=\"1\" class=\"dataframe\">\n",
       "  <thead>\n",
       "    <tr style=\"text-align: right;\">\n",
       "      <th></th>\n",
       "      <th>car_number</th>\n",
       "      <th>color</th>\n",
       "      <th>time</th>\n",
       "      <th>text</th>\n",
       "      <th>handle</th>\n",
       "      <th>user_id</th>\n",
       "      <th>tweet_id</th>\n",
       "    </tr>\n",
       "  </thead>\n",
       "  <tbody>\n",
       "    <tr>\n",
       "      <th>0</th>\n",
       "      <td>1001</td>\n",
       "      <td>RED</td>\n",
       "      <td>2013-05-28T12:39:54+00:00</td>\n",
       "      <td>Was just on metro hot car #1001 (red line), an...</td>\n",
       "      <td>CarChickMWB</td>\n",
       "      <td>18249348</td>\n",
       "      <td>339360382302949376</td>\n",
       "    </tr>\n",
       "    <tr>\n",
       "      <th>1</th>\n",
       "      <td>1188</td>\n",
       "      <td>RED</td>\n",
       "      <td>2013-05-28T12:50:53+00:00</td>\n",
       "      <td>@FixWMATA @unsuckdcmetro @wmata RL #HotCar 118...</td>\n",
       "      <td>DiavoJinx</td>\n",
       "      <td>403520304</td>\n",
       "      <td>339363145795653632</td>\n",
       "    </tr>\n",
       "    <tr>\n",
       "      <th>2</th>\n",
       "      <td>1068</td>\n",
       "      <td>GREEN</td>\n",
       "      <td>2013-05-28T21:06:20+00:00</td>\n",
       "      <td>oh good, another hot car on the metro. green l...</td>\n",
       "      <td>lexilooo</td>\n",
       "      <td>16174883</td>\n",
       "      <td>339487827479908353</td>\n",
       "    </tr>\n",
       "    <tr>\n",
       "      <th>3</th>\n",
       "      <td>2066</td>\n",
       "      <td>ORANGE</td>\n",
       "      <td>2013-05-28T21:15:23+00:00</td>\n",
       "      <td>#HotCar 2066 on OL to New Carrollton.  Air is ...</td>\n",
       "      <td>TheHornGuy</td>\n",
       "      <td>40506740</td>\n",
       "      <td>339490107864276992</td>\n",
       "    </tr>\n",
       "    <tr>\n",
       "      <th>4</th>\n",
       "      <td>1043</td>\n",
       "      <td>BLUE</td>\n",
       "      <td>2013-05-28T22:08:07+00:00</td>\n",
       "      <td>Car 1043 on the blue line heading to Largo is ...</td>\n",
       "      <td>jessydumpling</td>\n",
       "      <td>263763147</td>\n",
       "      <td>339503377618718720</td>\n",
       "    </tr>\n",
       "  </tbody>\n",
       "</table>\n",
       "</div>"
      ],
      "text/plain": [
       "   car_number   color                       time  \\\n",
       "0        1001     RED  2013-05-28T12:39:54+00:00   \n",
       "1        1188     RED  2013-05-28T12:50:53+00:00   \n",
       "2        1068   GREEN  2013-05-28T21:06:20+00:00   \n",
       "3        2066  ORANGE  2013-05-28T21:15:23+00:00   \n",
       "4        1043    BLUE  2013-05-28T22:08:07+00:00   \n",
       "\n",
       "                                                text         handle  \\\n",
       "0  Was just on metro hot car #1001 (red line), an...    CarChickMWB   \n",
       "1  @FixWMATA @unsuckdcmetro @wmata RL #HotCar 118...      DiavoJinx   \n",
       "2  oh good, another hot car on the metro. green l...       lexilooo   \n",
       "3  #HotCar 2066 on OL to New Carrollton.  Air is ...     TheHornGuy   \n",
       "4  Car 1043 on the blue line heading to Largo is ...  jessydumpling   \n",
       "\n",
       "     user_id            tweet_id  \n",
       "0   18249348  339360382302949376  \n",
       "1  403520304  339363145795653632  \n",
       "2   16174883  339487827479908353  \n",
       "3   40506740  339490107864276992  \n",
       "4  263763147  339503377618718720  "
      ]
     },
     "execution_count": 248,
     "metadata": {},
     "output_type": "execute_result"
    }
   ],
   "source": [
    "data.head()"
   ]
  },
  {
   "cell_type": "markdown",
   "metadata": {},
   "source": [
    "# Cleaning the Data\n",
    "- The first thing that sticks out is the 'time' column.  this is a timestamp and I want to break it down so I can do some better EDA\n",
    "    - I'll rename 'time' to 'time_stamp'\n",
    "    - break down the 'time_stamp' into new columns ('full_date', 'time', 'year', 'month', 'date')\n",
    "- I can delete 'tweet_id' as this doesn't really provide any usefull information for EDA or modeling"
   ]
  },
  {
   "cell_type": "markdown",
   "metadata": {},
   "source": [
    "## Other new columns to create"
   ]
  },
  {
   "cell_type": "markdown",
   "metadata": {},
   "source": [
    "### Adding 'workday' column, to see what day tweet was tweeted\n",
    "    - 0 = not a workday\n",
    "    - 1 = a workday"
   ]
  },
  {
   "cell_type": "markdown",
   "metadata": {},
   "source": [
    "### 'season column' \n",
    "    - Winter = 0\n",
    "    - Spring = 1\n",
    "    - Summer = 2\n",
    "    - Autumn = 3"
   ]
  },
  {
   "cell_type": "markdown",
   "metadata": {},
   "source": [
    "### 'weekday' column \n",
    "    - 0 = Monday\n",
    "    - 1 = Tuesday\n",
    "    - 2 = Wednesday\n",
    "    - 3 = Thursday\n",
    "    - 4 = Friday\n",
    "    - 5 = Satuday\n",
    "    - 6 = Sunday"
   ]
  },
  {
   "cell_type": "code",
   "execution_count": 249,
   "metadata": {},
   "outputs": [],
   "source": [
    "data = data.drop(columns = {'tweet_id'})"
   ]
  },
  {
   "cell_type": "code",
   "execution_count": 250,
   "metadata": {},
   "outputs": [],
   "source": [
    "# renaming time into time_stamp\n",
    "data = data.rename(columns = {'time' : 'time_stamp'})"
   ]
  },
  {
   "cell_type": "code",
   "execution_count": 251,
   "metadata": {},
   "outputs": [],
   "source": [
    "# splitting up the time_stamp into a month day and year\n",
    "data['year'] = pd.DatetimeIndex(data['time_stamp']).year\n",
    "data['month'] = pd.DatetimeIndex(data['time_stamp']).month\n",
    "data['day'] = pd.DatetimeIndex(data['time_stamp']).day"
   ]
  },
  {
   "cell_type": "code",
   "execution_count": 252,
   "metadata": {},
   "outputs": [],
   "source": [
    "# making a new full date column out of the time stamp\n",
    "data['full_date']=[d.split('T')[0] for d in data.time_stamp]"
   ]
  },
  {
   "cell_type": "code",
   "execution_count": 253,
   "metadata": {},
   "outputs": [],
   "source": [
    "# creating blank columns \n",
    "data['weekday'] = ''  # this will be what day it is (Mon-Sun)\n",
    "data['season'] = ''   # this will be what season (winter = 0, spring = 1, summer = 2, fall = 3)\n",
    "data['workday'] = ''  # if it's a workday or not (0 = not a workday (a weekend), 1 = a workday)"
   ]
  },
  {
   "cell_type": "code",
   "execution_count": 254,
   "metadata": {},
   "outputs": [
    {
     "data": {
      "text/html": [
       "<div>\n",
       "<style scoped>\n",
       "    .dataframe tbody tr th:only-of-type {\n",
       "        vertical-align: middle;\n",
       "    }\n",
       "\n",
       "    .dataframe tbody tr th {\n",
       "        vertical-align: top;\n",
       "    }\n",
       "\n",
       "    .dataframe thead th {\n",
       "        text-align: right;\n",
       "    }\n",
       "</style>\n",
       "<table border=\"1\" class=\"dataframe\">\n",
       "  <thead>\n",
       "    <tr style=\"text-align: right;\">\n",
       "      <th></th>\n",
       "      <th>car_number</th>\n",
       "      <th>color</th>\n",
       "      <th>time_stamp</th>\n",
       "      <th>text</th>\n",
       "      <th>handle</th>\n",
       "      <th>user_id</th>\n",
       "      <th>year</th>\n",
       "      <th>month</th>\n",
       "      <th>day</th>\n",
       "      <th>full_date</th>\n",
       "      <th>weekday</th>\n",
       "      <th>season</th>\n",
       "      <th>workday</th>\n",
       "    </tr>\n",
       "  </thead>\n",
       "  <tbody>\n",
       "    <tr>\n",
       "      <th>0</th>\n",
       "      <td>1001</td>\n",
       "      <td>RED</td>\n",
       "      <td>2013-05-28T12:39:54+00:00</td>\n",
       "      <td>Was just on metro hot car #1001 (red line), an...</td>\n",
       "      <td>CarChickMWB</td>\n",
       "      <td>18249348</td>\n",
       "      <td>2013</td>\n",
       "      <td>5</td>\n",
       "      <td>28</td>\n",
       "      <td>2013-05-28</td>\n",
       "      <td></td>\n",
       "      <td></td>\n",
       "      <td></td>\n",
       "    </tr>\n",
       "    <tr>\n",
       "      <th>1</th>\n",
       "      <td>1188</td>\n",
       "      <td>RED</td>\n",
       "      <td>2013-05-28T12:50:53+00:00</td>\n",
       "      <td>@FixWMATA @unsuckdcmetro @wmata RL #HotCar 118...</td>\n",
       "      <td>DiavoJinx</td>\n",
       "      <td>403520304</td>\n",
       "      <td>2013</td>\n",
       "      <td>5</td>\n",
       "      <td>28</td>\n",
       "      <td>2013-05-28</td>\n",
       "      <td></td>\n",
       "      <td></td>\n",
       "      <td></td>\n",
       "    </tr>\n",
       "    <tr>\n",
       "      <th>2</th>\n",
       "      <td>1068</td>\n",
       "      <td>GREEN</td>\n",
       "      <td>2013-05-28T21:06:20+00:00</td>\n",
       "      <td>oh good, another hot car on the metro. green l...</td>\n",
       "      <td>lexilooo</td>\n",
       "      <td>16174883</td>\n",
       "      <td>2013</td>\n",
       "      <td>5</td>\n",
       "      <td>28</td>\n",
       "      <td>2013-05-28</td>\n",
       "      <td></td>\n",
       "      <td></td>\n",
       "      <td></td>\n",
       "    </tr>\n",
       "    <tr>\n",
       "      <th>3</th>\n",
       "      <td>2066</td>\n",
       "      <td>ORANGE</td>\n",
       "      <td>2013-05-28T21:15:23+00:00</td>\n",
       "      <td>#HotCar 2066 on OL to New Carrollton.  Air is ...</td>\n",
       "      <td>TheHornGuy</td>\n",
       "      <td>40506740</td>\n",
       "      <td>2013</td>\n",
       "      <td>5</td>\n",
       "      <td>28</td>\n",
       "      <td>2013-05-28</td>\n",
       "      <td></td>\n",
       "      <td></td>\n",
       "      <td></td>\n",
       "    </tr>\n",
       "    <tr>\n",
       "      <th>4</th>\n",
       "      <td>1043</td>\n",
       "      <td>BLUE</td>\n",
       "      <td>2013-05-28T22:08:07+00:00</td>\n",
       "      <td>Car 1043 on the blue line heading to Largo is ...</td>\n",
       "      <td>jessydumpling</td>\n",
       "      <td>263763147</td>\n",
       "      <td>2013</td>\n",
       "      <td>5</td>\n",
       "      <td>28</td>\n",
       "      <td>2013-05-28</td>\n",
       "      <td></td>\n",
       "      <td></td>\n",
       "      <td></td>\n",
       "    </tr>\n",
       "  </tbody>\n",
       "</table>\n",
       "</div>"
      ],
      "text/plain": [
       "   car_number   color                 time_stamp  \\\n",
       "0        1001     RED  2013-05-28T12:39:54+00:00   \n",
       "1        1188     RED  2013-05-28T12:50:53+00:00   \n",
       "2        1068   GREEN  2013-05-28T21:06:20+00:00   \n",
       "3        2066  ORANGE  2013-05-28T21:15:23+00:00   \n",
       "4        1043    BLUE  2013-05-28T22:08:07+00:00   \n",
       "\n",
       "                                                text         handle  \\\n",
       "0  Was just on metro hot car #1001 (red line), an...    CarChickMWB   \n",
       "1  @FixWMATA @unsuckdcmetro @wmata RL #HotCar 118...      DiavoJinx   \n",
       "2  oh good, another hot car on the metro. green l...       lexilooo   \n",
       "3  #HotCar 2066 on OL to New Carrollton.  Air is ...     TheHornGuy   \n",
       "4  Car 1043 on the blue line heading to Largo is ...  jessydumpling   \n",
       "\n",
       "     user_id  year  month  day   full_date weekday season workday  \n",
       "0   18249348  2013      5   28  2013-05-28                         \n",
       "1  403520304  2013      5   28  2013-05-28                         \n",
       "2   16174883  2013      5   28  2013-05-28                         \n",
       "3   40506740  2013      5   28  2013-05-28                         \n",
       "4  263763147  2013      5   28  2013-05-28                         "
      ]
     },
     "execution_count": 254,
     "metadata": {},
     "output_type": "execute_result"
    }
   ],
   "source": [
    "data.head()"
   ]
  },
  {
   "cell_type": "code",
   "execution_count": 255,
   "metadata": {},
   "outputs": [
    {
     "data": {
      "text/plain": [
       "(6440, 13)"
      ]
     },
     "execution_count": 255,
     "metadata": {},
     "output_type": "execute_result"
    }
   ],
   "source": [
    "data.shape"
   ]
  },
  {
   "cell_type": "code",
   "execution_count": 256,
   "metadata": {},
   "outputs": [
    {
     "data": {
      "text/plain": [
       "<pandas.core.groupby.generic.DataFrameGroupBy object at 0x000001F425387BE0>"
      ]
     },
     "execution_count": 256,
     "metadata": {},
     "output_type": "execute_result"
    }
   ],
   "source": [
    "data.groupby('month')"
   ]
  },
  {
   "cell_type": "code",
   "execution_count": 257,
   "metadata": {},
   "outputs": [],
   "source": [
    "#for i in data['month'].values:\n",
    "   # print(i)"
   ]
  },
  {
   "cell_type": "code",
   "execution_count": 258,
   "metadata": {},
   "outputs": [
    {
     "data": {
      "text/html": [
       "<div>\n",
       "<style scoped>\n",
       "    .dataframe tbody tr th:only-of-type {\n",
       "        vertical-align: middle;\n",
       "    }\n",
       "\n",
       "    .dataframe tbody tr th {\n",
       "        vertical-align: top;\n",
       "    }\n",
       "\n",
       "    .dataframe thead th {\n",
       "        text-align: right;\n",
       "    }\n",
       "</style>\n",
       "<table border=\"1\" class=\"dataframe\">\n",
       "  <thead>\n",
       "    <tr style=\"text-align: right;\">\n",
       "      <th></th>\n",
       "      <th>car_number</th>\n",
       "      <th>color</th>\n",
       "      <th>time_stamp</th>\n",
       "      <th>text</th>\n",
       "      <th>handle</th>\n",
       "      <th>user_id</th>\n",
       "      <th>year</th>\n",
       "      <th>month</th>\n",
       "      <th>day</th>\n",
       "      <th>full_date</th>\n",
       "      <th>weekday</th>\n",
       "      <th>season</th>\n",
       "      <th>workday</th>\n",
       "    </tr>\n",
       "  </thead>\n",
       "  <tbody>\n",
       "    <tr>\n",
       "      <th>854</th>\n",
       "      <td>1118</td>\n",
       "      <td>RED</td>\n",
       "      <td>2014-01-14T13:47:56+00:00</td>\n",
       "      <td>RL car 1118 is HOT. Sauna. No wonder there are...</td>\n",
       "      <td>WellRedCommuter</td>\n",
       "      <td>42056591</td>\n",
       "      <td>2014</td>\n",
       "      <td>1</td>\n",
       "      <td>14</td>\n",
       "      <td>2014-01-14</td>\n",
       "      <td></td>\n",
       "      <td></td>\n",
       "      <td></td>\n",
       "    </tr>\n",
       "    <tr>\n",
       "      <th>1710</th>\n",
       "      <td>1161</td>\n",
       "      <td>RED</td>\n",
       "      <td>2015-01-22T22:29:21+00:00</td>\n",
       "      <td>I know it's winter but red line 1161 is too ho...</td>\n",
       "      <td>martin130x</td>\n",
       "      <td>904875835</td>\n",
       "      <td>2015</td>\n",
       "      <td>1</td>\n",
       "      <td>22</td>\n",
       "      <td>2015-01-22</td>\n",
       "      <td></td>\n",
       "      <td></td>\n",
       "      <td></td>\n",
       "    </tr>\n",
       "    <tr>\n",
       "      <th>2894</th>\n",
       "      <td>2016</td>\n",
       "      <td>NaN</td>\n",
       "      <td>2016-01-05T14:48:13+00:00</td>\n",
       "      <td>On the lighter side... 0 #WMATA #HotCars have ...</td>\n",
       "      <td>FixWMATA</td>\n",
       "      <td>1587152041</td>\n",
       "      <td>2016</td>\n",
       "      <td>1</td>\n",
       "      <td>5</td>\n",
       "      <td>2016-01-05</td>\n",
       "      <td></td>\n",
       "      <td></td>\n",
       "      <td></td>\n",
       "    </tr>\n",
       "    <tr>\n",
       "      <th>2895</th>\n",
       "      <td>1114</td>\n",
       "      <td>RED</td>\n",
       "      <td>2016-01-07T22:29:25+00:00</td>\n",
       "      <td>@MetroHotCars Car #1114 Red Line train to Glen...</td>\n",
       "      <td>MissBain85</td>\n",
       "      <td>158870101</td>\n",
       "      <td>2016</td>\n",
       "      <td>1</td>\n",
       "      <td>7</td>\n",
       "      <td>2016-01-07</td>\n",
       "      <td></td>\n",
       "      <td></td>\n",
       "      <td></td>\n",
       "    </tr>\n",
       "    <tr>\n",
       "      <th>2896</th>\n",
       "      <td>1206</td>\n",
       "      <td>SILVER</td>\n",
       "      <td>2016-01-08T02:03:34+00:00</td>\n",
       "      <td>@wmata silver line train car number 1206 is a ...</td>\n",
       "      <td>RaltzKlamar</td>\n",
       "      <td>836913216</td>\n",
       "      <td>2016</td>\n",
       "      <td>1</td>\n",
       "      <td>8</td>\n",
       "      <td>2016-01-08</td>\n",
       "      <td></td>\n",
       "      <td></td>\n",
       "      <td></td>\n",
       "    </tr>\n",
       "  </tbody>\n",
       "</table>\n",
       "</div>"
      ],
      "text/plain": [
       "      car_number   color                 time_stamp  \\\n",
       "854         1118     RED  2014-01-14T13:47:56+00:00   \n",
       "1710        1161     RED  2015-01-22T22:29:21+00:00   \n",
       "2894        2016     NaN  2016-01-05T14:48:13+00:00   \n",
       "2895        1114     RED  2016-01-07T22:29:25+00:00   \n",
       "2896        1206  SILVER  2016-01-08T02:03:34+00:00   \n",
       "\n",
       "                                                   text           handle  \\\n",
       "854   RL car 1118 is HOT. Sauna. No wonder there are...  WellRedCommuter   \n",
       "1710  I know it's winter but red line 1161 is too ho...       martin130x   \n",
       "2894  On the lighter side... 0 #WMATA #HotCars have ...         FixWMATA   \n",
       "2895  @MetroHotCars Car #1114 Red Line train to Glen...       MissBain85   \n",
       "2896  @wmata silver line train car number 1206 is a ...      RaltzKlamar   \n",
       "\n",
       "         user_id  year  month  day   full_date weekday season workday  \n",
       "854     42056591  2014      1   14  2014-01-14                         \n",
       "1710   904875835  2015      1   22  2015-01-22                         \n",
       "2894  1587152041  2016      1    5  2016-01-05                         \n",
       "2895   158870101  2016      1    7  2016-01-07                         \n",
       "2896   836913216  2016      1    8  2016-01-08                         "
      ]
     },
     "execution_count": 258,
     "metadata": {},
     "output_type": "execute_result"
    }
   ],
   "source": [
    "data.loc[data['month'] == 1].head()"
   ]
  },
  {
   "cell_type": "markdown",
   "metadata": {},
   "source": [
    "-We've have gotten rid of the 'tweet_id' column which didn't provide us any useful information\n",
    "-I managed to break up time to year, month, day and full_date.  I still need to make a new column 'time' and have just the time on this.   "
   ]
  },
  {
   "cell_type": "code",
   "execution_count": 259,
   "metadata": {},
   "outputs": [],
   "source": [
    "import numpy as np"
   ]
  },
  {
   "cell_type": "markdown",
   "metadata": {},
   "source": [
    "# Use the following 2 cells to convery time_stamp into year, month, and day columns, instead of that long as thing you used before"
   ]
  },
  {
   "cell_type": "code",
   "execution_count": 260,
   "metadata": {},
   "outputs": [],
   "source": [
    "# import datetime librarby to convert objects to datetimes\n",
    "from datetime import datetime\n",
    "\n",
    "# changes 'full_date' from an object to a datetime\n",
    "data['full_date']= pd.to_datetime(data['full_date']) \n",
    "\n",
    "# changes 'time_stamp' to datetime\n",
    "data['time_stamp']= pd.to_datetime(data['time_stamp']) "
   ]
  },
  {
   "cell_type": "code",
   "execution_count": 261,
   "metadata": {},
   "outputs": [],
   "source": [
    "data.weekday = data.time_stamp.dt.dayofweek"
   ]
  },
  {
   "cell_type": "code",
   "execution_count": 262,
   "metadata": {},
   "outputs": [
    {
     "data": {
      "text/html": [
       "<div>\n",
       "<style scoped>\n",
       "    .dataframe tbody tr th:only-of-type {\n",
       "        vertical-align: middle;\n",
       "    }\n",
       "\n",
       "    .dataframe tbody tr th {\n",
       "        vertical-align: top;\n",
       "    }\n",
       "\n",
       "    .dataframe thead th {\n",
       "        text-align: right;\n",
       "    }\n",
       "</style>\n",
       "<table border=\"1\" class=\"dataframe\">\n",
       "  <thead>\n",
       "    <tr style=\"text-align: right;\">\n",
       "      <th></th>\n",
       "      <th>car_number</th>\n",
       "      <th>color</th>\n",
       "      <th>time_stamp</th>\n",
       "      <th>text</th>\n",
       "      <th>handle</th>\n",
       "      <th>user_id</th>\n",
       "      <th>year</th>\n",
       "      <th>month</th>\n",
       "      <th>day</th>\n",
       "      <th>full_date</th>\n",
       "      <th>weekday</th>\n",
       "      <th>season</th>\n",
       "      <th>workday</th>\n",
       "    </tr>\n",
       "  </thead>\n",
       "  <tbody>\n",
       "    <tr>\n",
       "      <th>0</th>\n",
       "      <td>1001</td>\n",
       "      <td>RED</td>\n",
       "      <td>2013-05-28 12:39:54+00:00</td>\n",
       "      <td>Was just on metro hot car #1001 (red line), an...</td>\n",
       "      <td>CarChickMWB</td>\n",
       "      <td>18249348</td>\n",
       "      <td>2013</td>\n",
       "      <td>5</td>\n",
       "      <td>28</td>\n",
       "      <td>2013-05-28</td>\n",
       "      <td>1</td>\n",
       "      <td></td>\n",
       "      <td></td>\n",
       "    </tr>\n",
       "    <tr>\n",
       "      <th>1</th>\n",
       "      <td>1188</td>\n",
       "      <td>RED</td>\n",
       "      <td>2013-05-28 12:50:53+00:00</td>\n",
       "      <td>@FixWMATA @unsuckdcmetro @wmata RL #HotCar 118...</td>\n",
       "      <td>DiavoJinx</td>\n",
       "      <td>403520304</td>\n",
       "      <td>2013</td>\n",
       "      <td>5</td>\n",
       "      <td>28</td>\n",
       "      <td>2013-05-28</td>\n",
       "      <td>1</td>\n",
       "      <td></td>\n",
       "      <td></td>\n",
       "    </tr>\n",
       "    <tr>\n",
       "      <th>2</th>\n",
       "      <td>1068</td>\n",
       "      <td>GREEN</td>\n",
       "      <td>2013-05-28 21:06:20+00:00</td>\n",
       "      <td>oh good, another hot car on the metro. green l...</td>\n",
       "      <td>lexilooo</td>\n",
       "      <td>16174883</td>\n",
       "      <td>2013</td>\n",
       "      <td>5</td>\n",
       "      <td>28</td>\n",
       "      <td>2013-05-28</td>\n",
       "      <td>1</td>\n",
       "      <td></td>\n",
       "      <td></td>\n",
       "    </tr>\n",
       "    <tr>\n",
       "      <th>3</th>\n",
       "      <td>2066</td>\n",
       "      <td>ORANGE</td>\n",
       "      <td>2013-05-28 21:15:23+00:00</td>\n",
       "      <td>#HotCar 2066 on OL to New Carrollton.  Air is ...</td>\n",
       "      <td>TheHornGuy</td>\n",
       "      <td>40506740</td>\n",
       "      <td>2013</td>\n",
       "      <td>5</td>\n",
       "      <td>28</td>\n",
       "      <td>2013-05-28</td>\n",
       "      <td>1</td>\n",
       "      <td></td>\n",
       "      <td></td>\n",
       "    </tr>\n",
       "    <tr>\n",
       "      <th>4</th>\n",
       "      <td>1043</td>\n",
       "      <td>BLUE</td>\n",
       "      <td>2013-05-28 22:08:07+00:00</td>\n",
       "      <td>Car 1043 on the blue line heading to Largo is ...</td>\n",
       "      <td>jessydumpling</td>\n",
       "      <td>263763147</td>\n",
       "      <td>2013</td>\n",
       "      <td>5</td>\n",
       "      <td>28</td>\n",
       "      <td>2013-05-28</td>\n",
       "      <td>1</td>\n",
       "      <td></td>\n",
       "      <td></td>\n",
       "    </tr>\n",
       "  </tbody>\n",
       "</table>\n",
       "</div>"
      ],
      "text/plain": [
       "   car_number   color                time_stamp  \\\n",
       "0        1001     RED 2013-05-28 12:39:54+00:00   \n",
       "1        1188     RED 2013-05-28 12:50:53+00:00   \n",
       "2        1068   GREEN 2013-05-28 21:06:20+00:00   \n",
       "3        2066  ORANGE 2013-05-28 21:15:23+00:00   \n",
       "4        1043    BLUE 2013-05-28 22:08:07+00:00   \n",
       "\n",
       "                                                text         handle  \\\n",
       "0  Was just on metro hot car #1001 (red line), an...    CarChickMWB   \n",
       "1  @FixWMATA @unsuckdcmetro @wmata RL #HotCar 118...      DiavoJinx   \n",
       "2  oh good, another hot car on the metro. green l...       lexilooo   \n",
       "3  #HotCar 2066 on OL to New Carrollton.  Air is ...     TheHornGuy   \n",
       "4  Car 1043 on the blue line heading to Largo is ...  jessydumpling   \n",
       "\n",
       "     user_id  year  month  day  full_date  weekday season workday  \n",
       "0   18249348  2013      5   28 2013-05-28        1                 \n",
       "1  403520304  2013      5   28 2013-05-28        1                 \n",
       "2   16174883  2013      5   28 2013-05-28        1                 \n",
       "3   40506740  2013      5   28 2013-05-28        1                 \n",
       "4  263763147  2013      5   28 2013-05-28        1                 "
      ]
     },
     "execution_count": 262,
     "metadata": {},
     "output_type": "execute_result"
    }
   ],
   "source": [
    "data.head()"
   ]
  },
  {
   "cell_type": "code",
   "execution_count": 263,
   "metadata": {},
   "outputs": [],
   "source": [
    "data.year = data.time_stamp.dt.year"
   ]
  },
  {
   "cell_type": "code",
   "execution_count": 265,
   "metadata": {},
   "outputs": [],
   "source": [
    "data.season = data.time_stamp.dt.quarter"
   ]
  },
  {
   "cell_type": "code",
   "execution_count": 266,
   "metadata": {},
   "outputs": [
    {
     "data": {
      "text/html": [
       "<div>\n",
       "<style scoped>\n",
       "    .dataframe tbody tr th:only-of-type {\n",
       "        vertical-align: middle;\n",
       "    }\n",
       "\n",
       "    .dataframe tbody tr th {\n",
       "        vertical-align: top;\n",
       "    }\n",
       "\n",
       "    .dataframe thead th {\n",
       "        text-align: right;\n",
       "    }\n",
       "</style>\n",
       "<table border=\"1\" class=\"dataframe\">\n",
       "  <thead>\n",
       "    <tr style=\"text-align: right;\">\n",
       "      <th></th>\n",
       "      <th>car_number</th>\n",
       "      <th>color</th>\n",
       "      <th>time_stamp</th>\n",
       "      <th>text</th>\n",
       "      <th>handle</th>\n",
       "      <th>user_id</th>\n",
       "      <th>year</th>\n",
       "      <th>month</th>\n",
       "      <th>day</th>\n",
       "      <th>full_date</th>\n",
       "      <th>weekday</th>\n",
       "      <th>season</th>\n",
       "      <th>workday</th>\n",
       "    </tr>\n",
       "  </thead>\n",
       "  <tbody>\n",
       "    <tr>\n",
       "      <th>0</th>\n",
       "      <td>1001</td>\n",
       "      <td>RED</td>\n",
       "      <td>2013-05-28 12:39:54+00:00</td>\n",
       "      <td>Was just on metro hot car #1001 (red line), an...</td>\n",
       "      <td>CarChickMWB</td>\n",
       "      <td>18249348</td>\n",
       "      <td>2013</td>\n",
       "      <td>5</td>\n",
       "      <td>28</td>\n",
       "      <td>2013-05-28</td>\n",
       "      <td>1</td>\n",
       "      <td>2</td>\n",
       "      <td></td>\n",
       "    </tr>\n",
       "    <tr>\n",
       "      <th>1</th>\n",
       "      <td>1188</td>\n",
       "      <td>RED</td>\n",
       "      <td>2013-05-28 12:50:53+00:00</td>\n",
       "      <td>@FixWMATA @unsuckdcmetro @wmata RL #HotCar 118...</td>\n",
       "      <td>DiavoJinx</td>\n",
       "      <td>403520304</td>\n",
       "      <td>2013</td>\n",
       "      <td>5</td>\n",
       "      <td>28</td>\n",
       "      <td>2013-05-28</td>\n",
       "      <td>1</td>\n",
       "      <td>2</td>\n",
       "      <td></td>\n",
       "    </tr>\n",
       "    <tr>\n",
       "      <th>2</th>\n",
       "      <td>1068</td>\n",
       "      <td>GREEN</td>\n",
       "      <td>2013-05-28 21:06:20+00:00</td>\n",
       "      <td>oh good, another hot car on the metro. green l...</td>\n",
       "      <td>lexilooo</td>\n",
       "      <td>16174883</td>\n",
       "      <td>2013</td>\n",
       "      <td>5</td>\n",
       "      <td>28</td>\n",
       "      <td>2013-05-28</td>\n",
       "      <td>1</td>\n",
       "      <td>2</td>\n",
       "      <td></td>\n",
       "    </tr>\n",
       "    <tr>\n",
       "      <th>3</th>\n",
       "      <td>2066</td>\n",
       "      <td>ORANGE</td>\n",
       "      <td>2013-05-28 21:15:23+00:00</td>\n",
       "      <td>#HotCar 2066 on OL to New Carrollton.  Air is ...</td>\n",
       "      <td>TheHornGuy</td>\n",
       "      <td>40506740</td>\n",
       "      <td>2013</td>\n",
       "      <td>5</td>\n",
       "      <td>28</td>\n",
       "      <td>2013-05-28</td>\n",
       "      <td>1</td>\n",
       "      <td>2</td>\n",
       "      <td></td>\n",
       "    </tr>\n",
       "    <tr>\n",
       "      <th>4</th>\n",
       "      <td>1043</td>\n",
       "      <td>BLUE</td>\n",
       "      <td>2013-05-28 22:08:07+00:00</td>\n",
       "      <td>Car 1043 on the blue line heading to Largo is ...</td>\n",
       "      <td>jessydumpling</td>\n",
       "      <td>263763147</td>\n",
       "      <td>2013</td>\n",
       "      <td>5</td>\n",
       "      <td>28</td>\n",
       "      <td>2013-05-28</td>\n",
       "      <td>1</td>\n",
       "      <td>2</td>\n",
       "      <td></td>\n",
       "    </tr>\n",
       "  </tbody>\n",
       "</table>\n",
       "</div>"
      ],
      "text/plain": [
       "   car_number   color                time_stamp  \\\n",
       "0        1001     RED 2013-05-28 12:39:54+00:00   \n",
       "1        1188     RED 2013-05-28 12:50:53+00:00   \n",
       "2        1068   GREEN 2013-05-28 21:06:20+00:00   \n",
       "3        2066  ORANGE 2013-05-28 21:15:23+00:00   \n",
       "4        1043    BLUE 2013-05-28 22:08:07+00:00   \n",
       "\n",
       "                                                text         handle  \\\n",
       "0  Was just on metro hot car #1001 (red line), an...    CarChickMWB   \n",
       "1  @FixWMATA @unsuckdcmetro @wmata RL #HotCar 118...      DiavoJinx   \n",
       "2  oh good, another hot car on the metro. green l...       lexilooo   \n",
       "3  #HotCar 2066 on OL to New Carrollton.  Air is ...     TheHornGuy   \n",
       "4  Car 1043 on the blue line heading to Largo is ...  jessydumpling   \n",
       "\n",
       "     user_id  year  month  day  full_date  weekday  season workday  \n",
       "0   18249348  2013      5   28 2013-05-28        1       2          \n",
       "1  403520304  2013      5   28 2013-05-28        1       2          \n",
       "2   16174883  2013      5   28 2013-05-28        1       2          \n",
       "3   40506740  2013      5   28 2013-05-28        1       2          \n",
       "4  263763147  2013      5   28 2013-05-28        1       2          "
      ]
     },
     "execution_count": 266,
     "metadata": {},
     "output_type": "execute_result"
    }
   ],
   "source": [
    "data.head()"
   ]
  },
  {
   "cell_type": "code",
   "execution_count": 274,
   "metadata": {},
   "outputs": [
    {
     "data": {
      "image/png": "[encoded data removed]",
      "text/plain": [
       "<Figure size 432x288 with 1 Axes>"
      ]
     },
     "metadata": {
      "needs_background": "light"
     },
     "output_type": "display_data"
    }
   ],
   "source": [
    "data.season.value_counts().plot.bar();\n",
    "plt.title('Tweets per quater');\n",
    "plt.xlabel('Quater');\n",
    "plt.ylabel('Tweet counts');\n",
    "plt.show()"
   ]
  },
  {
   "cell_type": "markdown",
   "metadata": {},
   "source": [
    "The most hot car complaints come between quarters 2 and 3 (april - september) generally the hotter months in the D.C Area"
   ]
  },
  {
   "cell_type": "code",
   "execution_count": null,
   "metadata": {},
   "outputs": [],
   "source": [
    "# 2 = months 4 - 6 (april, may, june)\n",
    "# 3 = months 7 - 9 (july, august, september)"
   ]
  },
  {
   "cell_type": "code",
   "execution_count": 264,
   "metadata": {},
   "outputs": [
    {
     "data": {
      "text/plain": [
       "2016    2235\n",
       "2015    1184\n",
       "2014     856\n",
       "2013     854\n",
       "2017     794\n",
       "2018     514\n",
       "2019       3\n",
       "Name: year, dtype: int64"
      ]
     },
     "execution_count": 264,
     "metadata": {},
     "output_type": "execute_result"
    }
   ],
   "source": [
    "data.year.value_counts()"
   ]
  },
  {
   "cell_type": "code",
   "execution_count": 224,
   "metadata": {},
   "outputs": [
    {
     "data": {
      "text/plain": [
       "<matplotlib.axes._subplots.AxesSubplot at 0x1f4250052e8>"
      ]
     },
     "execution_count": 224,
     "metadata": {},
     "output_type": "execute_result"
    },
    {
     "data": {
      "image/png": "[encoded data removed]",
      "text/plain": [
       "<Figure size 432x288 with 1 Axes>"
      ]
     },
     "metadata": {
      "needs_background": "light"
     },
     "output_type": "display_data"
    }
   ],
   "source": [
    "data.weekday.value_counts().plot.bar()"
   ]
  },
  {
   "cell_type": "code",
   "execution_count": 245,
   "metadata": {},
   "outputs": [],
   "source": [
    "# data.loc[data['weekday'].isin([1, 2, 3, 4])]"
   ]
  },
  {
   "cell_type": "code",
   "execution_count": 202,
   "metadata": {},
   "outputs": [
    {
     "data": {
      "text/plain": [
       "0    6440\n",
       "Name: workday, dtype: int64"
      ]
     },
     "execution_count": 202,
     "metadata": {},
     "output_type": "execute_result"
    }
   ],
   "source": [
    "data.workday.value_counts()"
   ]
  },
  {
   "cell_type": "code",
   "execution_count": 203,
   "metadata": {},
   "outputs": [
    {
     "data": {
      "text/html": [
       "<div>\n",
       "<style scoped>\n",
       "    .dataframe tbody tr th:only-of-type {\n",
       "        vertical-align: middle;\n",
       "    }\n",
       "\n",
       "    .dataframe tbody tr th {\n",
       "        vertical-align: top;\n",
       "    }\n",
       "\n",
       "    .dataframe thead th {\n",
       "        text-align: right;\n",
       "    }\n",
       "</style>\n",
       "<table border=\"1\" class=\"dataframe\">\n",
       "  <thead>\n",
       "    <tr style=\"text-align: right;\">\n",
       "      <th></th>\n",
       "      <th>car_number</th>\n",
       "      <th>color</th>\n",
       "      <th>time_stamp</th>\n",
       "      <th>text</th>\n",
       "      <th>handle</th>\n",
       "      <th>user_id</th>\n",
       "      <th>year</th>\n",
       "      <th>month</th>\n",
       "      <th>day</th>\n",
       "      <th>full_date</th>\n",
       "      <th>weekday</th>\n",
       "      <th>season</th>\n",
       "      <th>workday</th>\n",
       "    </tr>\n",
       "  </thead>\n",
       "  <tbody>\n",
       "    <tr>\n",
       "      <th>0</th>\n",
       "      <td>1001</td>\n",
       "      <td>RED</td>\n",
       "      <td>2013-05-28 12:39:54+00:00</td>\n",
       "      <td>Was just on metro hot car #1001 (red line), an...</td>\n",
       "      <td>CarChickMWB</td>\n",
       "      <td>18249348</td>\n",
       "      <td>2013</td>\n",
       "      <td>5</td>\n",
       "      <td>28</td>\n",
       "      <td>2013-05-28</td>\n",
       "      <td>1</td>\n",
       "      <td></td>\n",
       "      <td>0</td>\n",
       "    </tr>\n",
       "    <tr>\n",
       "      <th>1</th>\n",
       "      <td>1188</td>\n",
       "      <td>RED</td>\n",
       "      <td>2013-05-28 12:50:53+00:00</td>\n",
       "      <td>@FixWMATA @unsuckdcmetro @wmata RL #HotCar 118...</td>\n",
       "      <td>DiavoJinx</td>\n",
       "      <td>403520304</td>\n",
       "      <td>2013</td>\n",
       "      <td>5</td>\n",
       "      <td>28</td>\n",
       "      <td>2013-05-28</td>\n",
       "      <td>1</td>\n",
       "      <td></td>\n",
       "      <td>0</td>\n",
       "    </tr>\n",
       "    <tr>\n",
       "      <th>2</th>\n",
       "      <td>1068</td>\n",
       "      <td>GREEN</td>\n",
       "      <td>2013-05-28 21:06:20+00:00</td>\n",
       "      <td>oh good, another hot car on the metro. green l...</td>\n",
       "      <td>lexilooo</td>\n",
       "      <td>16174883</td>\n",
       "      <td>2013</td>\n",
       "      <td>5</td>\n",
       "      <td>28</td>\n",
       "      <td>2013-05-28</td>\n",
       "      <td>1</td>\n",
       "      <td></td>\n",
       "      <td>0</td>\n",
       "    </tr>\n",
       "    <tr>\n",
       "      <th>3</th>\n",
       "      <td>2066</td>\n",
       "      <td>ORANGE</td>\n",
       "      <td>2013-05-28 21:15:23+00:00</td>\n",
       "      <td>#HotCar 2066 on OL to New Carrollton.  Air is ...</td>\n",
       "      <td>TheHornGuy</td>\n",
       "      <td>40506740</td>\n",
       "      <td>2013</td>\n",
       "      <td>5</td>\n",
       "      <td>28</td>\n",
       "      <td>2013-05-28</td>\n",
       "      <td>1</td>\n",
       "      <td></td>\n",
       "      <td>0</td>\n",
       "    </tr>\n",
       "    <tr>\n",
       "      <th>4</th>\n",
       "      <td>1043</td>\n",
       "      <td>BLUE</td>\n",
       "      <td>2013-05-28 22:08:07+00:00</td>\n",
       "      <td>Car 1043 on the blue line heading to Largo is ...</td>\n",
       "      <td>jessydumpling</td>\n",
       "      <td>263763147</td>\n",
       "      <td>2013</td>\n",
       "      <td>5</td>\n",
       "      <td>28</td>\n",
       "      <td>2013-05-28</td>\n",
       "      <td>1</td>\n",
       "      <td></td>\n",
       "      <td>0</td>\n",
       "    </tr>\n",
       "  </tbody>\n",
       "</table>\n",
       "</div>"
      ],
      "text/plain": [
       "   car_number   color                time_stamp  \\\n",
       "0        1001     RED 2013-05-28 12:39:54+00:00   \n",
       "1        1188     RED 2013-05-28 12:50:53+00:00   \n",
       "2        1068   GREEN 2013-05-28 21:06:20+00:00   \n",
       "3        2066  ORANGE 2013-05-28 21:15:23+00:00   \n",
       "4        1043    BLUE 2013-05-28 22:08:07+00:00   \n",
       "\n",
       "                                                text         handle  \\\n",
       "0  Was just on metro hot car #1001 (red line), an...    CarChickMWB   \n",
       "1  @FixWMATA @unsuckdcmetro @wmata RL #HotCar 118...      DiavoJinx   \n",
       "2  oh good, another hot car on the metro. green l...       lexilooo   \n",
       "3  #HotCar 2066 on OL to New Carrollton.  Air is ...     TheHornGuy   \n",
       "4  Car 1043 on the blue line heading to Largo is ...  jessydumpling   \n",
       "\n",
       "     user_id  year  month  day  full_date  weekday season workday  \n",
       "0   18249348  2013      5   28 2013-05-28        1              0  \n",
       "1  403520304  2013      5   28 2013-05-28        1              0  \n",
       "2   16174883  2013      5   28 2013-05-28        1              0  \n",
       "3   40506740  2013      5   28 2013-05-28        1              0  \n",
       "4  263763147  2013      5   28 2013-05-28        1              0  "
      ]
     },
     "execution_count": 203,
     "metadata": {},
     "output_type": "execute_result"
    }
   ],
   "source": [
    "data.head()"
   ]
  },
  {
   "cell_type": "code",
   "execution_count": 204,
   "metadata": {},
   "outputs": [
    {
     "data": {
      "text/plain": [
       "car_number                  int64\n",
       "color                      object\n",
       "time_stamp    datetime64[ns, UTC]\n",
       "text                       object\n",
       "handle                     object\n",
       "user_id                     int64\n",
       "year                        int64\n",
       "month                       int64\n",
       "day                         int64\n",
       "full_date          datetime64[ns]\n",
       "weekday                     int64\n",
       "season                     object\n",
       "workday                    object\n",
       "dtype: object"
      ]
     },
     "execution_count": 204,
     "metadata": {},
     "output_type": "execute_result"
    }
   ],
   "source": [
    "data.dtypes"
   ]
  },
  {
   "cell_type": "code",
   "execution_count": 169,
   "metadata": {},
   "outputs": [
    {
     "data": {
      "text/html": [
       "<div>\n",
       "<style scoped>\n",
       "    .dataframe tbody tr th:only-of-type {\n",
       "        vertical-align: middle;\n",
       "    }\n",
       "\n",
       "    .dataframe tbody tr th {\n",
       "        vertical-align: top;\n",
       "    }\n",
       "\n",
       "    .dataframe thead th {\n",
       "        text-align: right;\n",
       "    }\n",
       "</style>\n",
       "<table border=\"1\" class=\"dataframe\">\n",
       "  <thead>\n",
       "    <tr style=\"text-align: right;\">\n",
       "      <th></th>\n",
       "      <th>car_number</th>\n",
       "      <th>color</th>\n",
       "      <th>time_stamp</th>\n",
       "      <th>text</th>\n",
       "      <th>handle</th>\n",
       "      <th>user_id</th>\n",
       "      <th>year</th>\n",
       "      <th>month</th>\n",
       "      <th>day</th>\n",
       "      <th>full_date</th>\n",
       "      <th>weekday</th>\n",
       "      <th>season</th>\n",
       "      <th>workday</th>\n",
       "    </tr>\n",
       "  </thead>\n",
       "  <tbody>\n",
       "    <tr>\n",
       "      <th>0</th>\n",
       "      <td>1001</td>\n",
       "      <td>RED</td>\n",
       "      <td>2013-05-28T12:39:54+00:00</td>\n",
       "      <td>Was just on metro hot car #1001 (red line), an...</td>\n",
       "      <td>CarChickMWB</td>\n",
       "      <td>18249348</td>\n",
       "      <td>2013</td>\n",
       "      <td>5</td>\n",
       "      <td>28</td>\n",
       "      <td>2013-05-28</td>\n",
       "      <td></td>\n",
       "      <td></td>\n",
       "      <td></td>\n",
       "    </tr>\n",
       "    <tr>\n",
       "      <th>1</th>\n",
       "      <td>1188</td>\n",
       "      <td>RED</td>\n",
       "      <td>2013-05-28T12:50:53+00:00</td>\n",
       "      <td>@FixWMATA @unsuckdcmetro @wmata RL #HotCar 118...</td>\n",
       "      <td>DiavoJinx</td>\n",
       "      <td>403520304</td>\n",
       "      <td>2013</td>\n",
       "      <td>5</td>\n",
       "      <td>28</td>\n",
       "      <td>2013-05-28</td>\n",
       "      <td></td>\n",
       "      <td></td>\n",
       "      <td></td>\n",
       "    </tr>\n",
       "    <tr>\n",
       "      <th>2</th>\n",
       "      <td>1068</td>\n",
       "      <td>GREEN</td>\n",
       "      <td>2013-05-28T21:06:20+00:00</td>\n",
       "      <td>oh good, another hot car on the metro. green l...</td>\n",
       "      <td>lexilooo</td>\n",
       "      <td>16174883</td>\n",
       "      <td>2013</td>\n",
       "      <td>5</td>\n",
       "      <td>28</td>\n",
       "      <td>2013-05-28</td>\n",
       "      <td></td>\n",
       "      <td></td>\n",
       "      <td></td>\n",
       "    </tr>\n",
       "    <tr>\n",
       "      <th>3</th>\n",
       "      <td>2066</td>\n",
       "      <td>ORANGE</td>\n",
       "      <td>2013-05-28T21:15:23+00:00</td>\n",
       "      <td>#HotCar 2066 on OL to New Carrollton.  Air is ...</td>\n",
       "      <td>TheHornGuy</td>\n",
       "      <td>40506740</td>\n",
       "      <td>2013</td>\n",
       "      <td>5</td>\n",
       "      <td>28</td>\n",
       "      <td>2013-05-28</td>\n",
       "      <td></td>\n",
       "      <td></td>\n",
       "      <td></td>\n",
       "    </tr>\n",
       "    <tr>\n",
       "      <th>4</th>\n",
       "      <td>1043</td>\n",
       "      <td>BLUE</td>\n",
       "      <td>2013-05-28T22:08:07+00:00</td>\n",
       "      <td>Car 1043 on the blue line heading to Largo is ...</td>\n",
       "      <td>jessydumpling</td>\n",
       "      <td>263763147</td>\n",
       "      <td>2013</td>\n",
       "      <td>5</td>\n",
       "      <td>28</td>\n",
       "      <td>2013-05-28</td>\n",
       "      <td></td>\n",
       "      <td></td>\n",
       "      <td></td>\n",
       "    </tr>\n",
       "  </tbody>\n",
       "</table>\n",
       "</div>"
      ],
      "text/plain": [
       "   car_number   color                 time_stamp  \\\n",
       "0        1001     RED  2013-05-28T12:39:54+00:00   \n",
       "1        1188     RED  2013-05-28T12:50:53+00:00   \n",
       "2        1068   GREEN  2013-05-28T21:06:20+00:00   \n",
       "3        2066  ORANGE  2013-05-28T21:15:23+00:00   \n",
       "4        1043    BLUE  2013-05-28T22:08:07+00:00   \n",
       "\n",
       "                                                text         handle  \\\n",
       "0  Was just on metro hot car #1001 (red line), an...    CarChickMWB   \n",
       "1  @FixWMATA @unsuckdcmetro @wmata RL #HotCar 118...      DiavoJinx   \n",
       "2  oh good, another hot car on the metro. green l...       lexilooo   \n",
       "3  #HotCar 2066 on OL to New Carrollton.  Air is ...     TheHornGuy   \n",
       "4  Car 1043 on the blue line heading to Largo is ...  jessydumpling   \n",
       "\n",
       "     user_id  year  month  day  full_date weekday season workday  \n",
       "0   18249348  2013      5   28 2013-05-28                         \n",
       "1  403520304  2013      5   28 2013-05-28                         \n",
       "2   16174883  2013      5   28 2013-05-28                         \n",
       "3   40506740  2013      5   28 2013-05-28                         \n",
       "4  263763147  2013      5   28 2013-05-28                         "
      ]
     },
     "execution_count": 169,
     "metadata": {},
     "output_type": "execute_result"
    }
   ],
   "source": [
    "data.head()"
   ]
  },
  {
   "cell_type": "markdown",
   "metadata": {},
   "source": [
    "# Final Clean Data\n",
    " HotCar reporting data. Each hot car report is from a tweet mentioning a single valid 4 digit Metro car number.\n",
    "\n",
    " - *car_number*: Metro car number\n",
    " - *color*: Line color\n",
    " - *time_stamp*: Tweet time (UTC)\n",
    " - *text*: Tweet text\n",
    " - *handle*: Twitter user's screen name\n",
    " - *user_id*: Twitter user's user_id\n",
    " - *year* : year\n",
    " - *month* : month of year\n",
    " - *day* : day of month\n",
    " - *full_date* : yyyy/mm/dd\n",
    " - *season* : what season it is\n",
    " - *weekday* : Monday - Sunday day\n",
    " - *workday* : If it's a workday or not"
   ]
  },
  {
   "cell_type": "code",
   "execution_count": 268,
   "metadata": {},
   "outputs": [
    {
     "data": {
      "text/html": [
       "<div>\n",
       "<style scoped>\n",
       "    .dataframe tbody tr th:only-of-type {\n",
       "        vertical-align: middle;\n",
       "    }\n",
       "\n",
       "    .dataframe tbody tr th {\n",
       "        vertical-align: top;\n",
       "    }\n",
       "\n",
       "    .dataframe thead th {\n",
       "        text-align: right;\n",
       "    }\n",
       "</style>\n",
       "<table border=\"1\" class=\"dataframe\">\n",
       "  <thead>\n",
       "    <tr style=\"text-align: right;\">\n",
       "      <th></th>\n",
       "      <th>car_number</th>\n",
       "      <th>color</th>\n",
       "      <th>time_stamp</th>\n",
       "      <th>text</th>\n",
       "      <th>handle</th>\n",
       "      <th>user_id</th>\n",
       "      <th>year</th>\n",
       "      <th>month</th>\n",
       "      <th>day</th>\n",
       "      <th>full_date</th>\n",
       "      <th>weekday</th>\n",
       "      <th>season</th>\n",
       "      <th>workday</th>\n",
       "    </tr>\n",
       "  </thead>\n",
       "  <tbody>\n",
       "    <tr>\n",
       "      <th>0</th>\n",
       "      <td>1001</td>\n",
       "      <td>RED</td>\n",
       "      <td>2013-05-28 12:39:54+00:00</td>\n",
       "      <td>Was just on metro hot car #1001 (red line), an...</td>\n",
       "      <td>CarChickMWB</td>\n",
       "      <td>18249348</td>\n",
       "      <td>2013</td>\n",
       "      <td>5</td>\n",
       "      <td>28</td>\n",
       "      <td>2013-05-28</td>\n",
       "      <td>1</td>\n",
       "      <td>2</td>\n",
       "      <td></td>\n",
       "    </tr>\n",
       "    <tr>\n",
       "      <th>1</th>\n",
       "      <td>1188</td>\n",
       "      <td>RED</td>\n",
       "      <td>2013-05-28 12:50:53+00:00</td>\n",
       "      <td>@FixWMATA @unsuckdcmetro @wmata RL #HotCar 118...</td>\n",
       "      <td>DiavoJinx</td>\n",
       "      <td>403520304</td>\n",
       "      <td>2013</td>\n",
       "      <td>5</td>\n",
       "      <td>28</td>\n",
       "      <td>2013-05-28</td>\n",
       "      <td>1</td>\n",
       "      <td>2</td>\n",
       "      <td></td>\n",
       "    </tr>\n",
       "    <tr>\n",
       "      <th>2</th>\n",
       "      <td>1068</td>\n",
       "      <td>GREEN</td>\n",
       "      <td>2013-05-28 21:06:20+00:00</td>\n",
       "      <td>oh good, another hot car on the metro. green l...</td>\n",
       "      <td>lexilooo</td>\n",
       "      <td>16174883</td>\n",
       "      <td>2013</td>\n",
       "      <td>5</td>\n",
       "      <td>28</td>\n",
       "      <td>2013-05-28</td>\n",
       "      <td>1</td>\n",
       "      <td>2</td>\n",
       "      <td></td>\n",
       "    </tr>\n",
       "    <tr>\n",
       "      <th>3</th>\n",
       "      <td>2066</td>\n",
       "      <td>ORANGE</td>\n",
       "      <td>2013-05-28 21:15:23+00:00</td>\n",
       "      <td>#HotCar 2066 on OL to New Carrollton.  Air is ...</td>\n",
       "      <td>TheHornGuy</td>\n",
       "      <td>40506740</td>\n",
       "      <td>2013</td>\n",
       "      <td>5</td>\n",
       "      <td>28</td>\n",
       "      <td>2013-05-28</td>\n",
       "      <td>1</td>\n",
       "      <td>2</td>\n",
       "      <td></td>\n",
       "    </tr>\n",
       "    <tr>\n",
       "      <th>4</th>\n",
       "      <td>1043</td>\n",
       "      <td>BLUE</td>\n",
       "      <td>2013-05-28 22:08:07+00:00</td>\n",
       "      <td>Car 1043 on the blue line heading to Largo is ...</td>\n",
       "      <td>jessydumpling</td>\n",
       "      <td>263763147</td>\n",
       "      <td>2013</td>\n",
       "      <td>5</td>\n",
       "      <td>28</td>\n",
       "      <td>2013-05-28</td>\n",
       "      <td>1</td>\n",
       "      <td>2</td>\n",
       "      <td></td>\n",
       "    </tr>\n",
       "  </tbody>\n",
       "</table>\n",
       "</div>"
      ],
      "text/plain": [
       "   car_number   color                time_stamp  \\\n",
       "0        1001     RED 2013-05-28 12:39:54+00:00   \n",
       "1        1188     RED 2013-05-28 12:50:53+00:00   \n",
       "2        1068   GREEN 2013-05-28 21:06:20+00:00   \n",
       "3        2066  ORANGE 2013-05-28 21:15:23+00:00   \n",
       "4        1043    BLUE 2013-05-28 22:08:07+00:00   \n",
       "\n",
       "                                                text         handle  \\\n",
       "0  Was just on metro hot car #1001 (red line), an...    CarChickMWB   \n",
       "1  @FixWMATA @unsuckdcmetro @wmata RL #HotCar 118...      DiavoJinx   \n",
       "2  oh good, another hot car on the metro. green l...       lexilooo   \n",
       "3  #HotCar 2066 on OL to New Carrollton.  Air is ...     TheHornGuy   \n",
       "4  Car 1043 on the blue line heading to Largo is ...  jessydumpling   \n",
       "\n",
       "     user_id  year  month  day  full_date  weekday  season workday  \n",
       "0   18249348  2013      5   28 2013-05-28        1       2          \n",
       "1  403520304  2013      5   28 2013-05-28        1       2          \n",
       "2   16174883  2013      5   28 2013-05-28        1       2          \n",
       "3   40506740  2013      5   28 2013-05-28        1       2          \n",
       "4  263763147  2013      5   28 2013-05-28        1       2          "
      ]
     },
     "execution_count": 268,
     "metadata": {},
     "output_type": "execute_result"
    }
   ],
   "source": [
    "#data.head()"
   ]
  },
  {
   "cell_type": "markdown",
   "metadata": {},
   "source": [
    "# Exploring the Data\n",
    "- I want to see which lines and cars received the most complaints\n",
    "- I also want to look at dates, and see which months and days received the most complaints\n",
    "    - I'm assuming there will be an increase during the summer months when it is generally hotter and also during weekdays, when many people are commuting to work"
   ]
  },
  {
   "cell_type": "code",
   "execution_count": 68,
   "metadata": {},
   "outputs": [
    {
     "data": {
      "text/plain": [
       "(6440, 11)"
      ]
     },
     "execution_count": 68,
     "metadata": {},
     "output_type": "execute_result"
    }
   ],
   "source": [
    "data.shape"
   ]
  },
  {
   "cell_type": "code",
   "execution_count": 69,
   "metadata": {},
   "outputs": [
    {
     "data": {
      "text/plain": [
       "car_number     int64\n",
       "color         object\n",
       "time_stamp    object\n",
       "text          object\n",
       "handle        object\n",
       "user_id        int64\n",
       "year           int64\n",
       "month          int64\n",
       "day            int64\n",
       "full_date     object\n",
       "weekday       object\n",
       "dtype: object"
      ]
     },
     "execution_count": 69,
     "metadata": {},
     "output_type": "execute_result"
    }
   ],
   "source": [
    "data.dtypes"
   ]
  },
  {
   "cell_type": "code",
   "execution_count": 18,
   "metadata": {},
   "outputs": [
    {
     "data": {
      "text/plain": [
       "6004    48\n",
       "3024    43\n",
       "1124    39\n",
       "1263    32\n",
       "5171    32\n",
       "6099    31\n",
       "3058    30\n",
       "1292    28\n",
       "6081    27\n",
       "5167    27\n",
       "Name: car_number, dtype: int64"
      ]
     },
     "execution_count": 18,
     "metadata": {},
     "output_type": "execute_result"
    }
   ],
   "source": [
    "data.car_number.value_counts().head(10)"
   ]
  },
  {
   "cell_type": "markdown",
   "metadata": {},
   "source": [
    "**This gives us the top 10 cars that received the most complaints**"
   ]
  },
  {
   "cell_type": "code",
   "execution_count": 19,
   "metadata": {},
   "outputs": [
    {
     "data": {
      "text/plain": [
       "RED       1705\n",
       "ORANGE    1053\n",
       "YELLOW     535\n",
       "BLUE       436\n",
       "NONE       400\n",
       "GREEN      356\n",
       "SILVER     309\n",
       "Name: color, dtype: int64"
      ]
     },
     "execution_count": 19,
     "metadata": {},
     "output_type": "execute_result"
    }
   ],
   "source": [
    "data.color.value_counts()"
   ]
  },
  {
   "cell_type": "markdown",
   "metadata": {},
   "source": [
    "**The number of complaints per line.  \n",
    "Red line and Orange win by a landslide.**"
   ]
  },
  {
   "cell_type": "code",
   "execution_count": 20,
   "metadata": {},
   "outputs": [
    {
     "data": {
      "text/plain": [
       "EdChernosky        125\n",
       "LowHeadways        104\n",
       "UnleafTheKraken     49\n",
       "Tracktwentynine     39\n",
       "HakunaWMATA         38\n",
       "KathrynAegis        38\n",
       "rmwc1995            38\n",
       "goldsmitht          37\n",
       "pjroddyjr           35\n",
       "lissabrennan        34\n",
       "Name: handle, dtype: int64"
      ]
     },
     "execution_count": 20,
     "metadata": {},
     "output_type": "execute_result"
    }
   ],
   "source": [
    "data.handle.value_counts().head(10)"
   ]
  },
  {
   "cell_type": "markdown",
   "metadata": {},
   "source": [
    "**The top 10 twitter users that tweet the most hotcar complaints. \n",
    "We can assume they are very usual metro riders...**"
   ]
  },
  {
   "cell_type": "markdown",
   "metadata": {},
   "source": [
    "# Modeling the Data\n",
    "- I'm not sure what to predict here.  \n",
    "    - I'm thinking we could predict what days are most likely to have a hot car. \n",
    "    - We can do this by season, month, and day (work day or not)"
   ]
  },
  {
   "cell_type": "code",
   "execution_count": null,
   "metadata": {},
   "outputs": [],
   "source": []
  }
 ],
 "metadata": {
  "kernelspec": {
   "display_name": "Python 3",
   "language": "python",
   "name": "python3"
  },
  "language_info": {
   "codemirror_mode": {
    "name": "ipython",
    "version": 3
   },
   "file_extension": ".py",
   "mimetype": "text/x-python",
   "name": "python",
   "nbconvert_exporter": "python",
   "pygments_lexer": "ipython3",
   "version": "3.7.3"
  }
 },
 "nbformat": 4,
 "nbformat_minor": 4
}
